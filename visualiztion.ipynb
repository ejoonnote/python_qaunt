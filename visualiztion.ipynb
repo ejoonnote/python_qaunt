{
 "cells": [
  {
   "cell_type": "code",
   "execution_count": 1,
   "metadata": {},
   "outputs": [],
   "source": [
    "import numpy as np\n",
    "import pandas as pd\n",
    "\n",
    "from IPython.core.interactiveshell import InteractiveShell\n",
    "InteractiveShell.ast_node_interactivity = \"all\"\n",
    "\n",
    "pd.set_option('display.float_format', lambda x: '%.3f' % x)\n",
    "pd.set_option('max_columns', None)"
   ]
  },
  {
   "cell_type": "markdown",
   "metadata": {},
   "source": [
    "# Matplotlib overview"
   ]
  },
  {
   "cell_type": "code",
   "execution_count": 2,
   "metadata": {},
   "outputs": [],
   "source": [
    "import matplotlib.pyplot as plt"
   ]
  },
  {
   "cell_type": "code",
   "execution_count": null,
   "metadata": {},
   "outputs": [],
   "source": [
    "%matplotlib inline"
   ]
  },
  {
   "cell_type": "code",
   "execution_count": null,
   "metadata": {},
   "outputs": [],
   "source": [
    "from IPython.core.interactiveshell import InteractiveShell\n",
    "InteractiveShell.ast_node_interactivity = \"all\""
   ]
  },
  {
   "cell_type": "markdown",
   "metadata": {},
   "source": [
    "![](https://matplotlib.org/_images/anatomy.png)"
   ]
  },
  {
   "cell_type": "markdown",
   "metadata": {},
   "source": [
    "![](https://static.packt-cdn.com/products/9781784393878/graphics/9ec8935e-0bdc-46aa-b392-18c5431a2218.png)"
   ]
  },
  {
   "cell_type": "markdown",
   "metadata": {},
   "source": [
    "- 출처\n",
    "    - https://matplotlib.org\n",
    "    - https://subscription.packtpub.com/book/data/9781784393878/11/ch11lvl1sec112/getting-started-with-matplotlib"
   ]
  },
  {
   "cell_type": "markdown",
   "metadata": {},
   "source": [
    "- 2가지 구성요소\n",
    "    - Figure \n",
    "        - 틀\n",
    "    - Axes \n",
    "        - Figure 바로 아래에, 실제 그래프가 그려질 공간\n",
    "        - 실제로 가장 많이 사용할 요소\n",
    "            - 이 안에 각종 plotting components가 존재  \n"
   ]
  },
  {
   "cell_type": "markdown",
   "metadata": {},
   "source": [
    "# Matplotlib의 2가지 인터페이스"
   ]
  },
  {
   "cell_type": "markdown",
   "metadata": {},
   "source": [
    "- Matplotlib이 배우고 익히기 어려운 이유 중 하나"
   ]
  },
  {
   "cell_type": "code",
   "execution_count": 1,
   "metadata": {},
   "outputs": [
    {
     "data": {
      "text/html": [
       "<div>\n",
       "<style scoped>\n",
       "    .dataframe tbody tr th:only-of-type {\n",
       "        vertical-align: middle;\n",
       "    }\n",
       "\n",
       "    .dataframe tbody tr th {\n",
       "        vertical-align: top;\n",
       "    }\n",
       "\n",
       "    .dataframe thead th {\n",
       "        text-align: right;\n",
       "    }\n",
       "</style>\n",
       "<table border=\"1\" class=\"dataframe\">\n",
       "  <thead>\n",
       "    <tr style=\"text-align: right;\">\n",
       "      <th></th>\n",
       "      <th>Open</th>\n",
       "      <th>High</th>\n",
       "      <th>Low</th>\n",
       "      <th>Close</th>\n",
       "      <th>Volume</th>\n",
       "      <th>Change</th>\n",
       "    </tr>\n",
       "    <tr>\n",
       "      <th>Date</th>\n",
       "      <th></th>\n",
       "      <th></th>\n",
       "      <th></th>\n",
       "      <th></th>\n",
       "      <th></th>\n",
       "      <th></th>\n",
       "    </tr>\n",
       "  </thead>\n",
       "  <tbody>\n",
       "    <tr>\n",
       "      <th>2017-01-02</th>\n",
       "      <td>1260</td>\n",
       "      <td>1300</td>\n",
       "      <td>1255</td>\n",
       "      <td>1295</td>\n",
       "      <td>1232965</td>\n",
       "      <td>0.040161</td>\n",
       "    </tr>\n",
       "    <tr>\n",
       "      <th>2017-01-03</th>\n",
       "      <td>1305</td>\n",
       "      <td>1315</td>\n",
       "      <td>1280</td>\n",
       "      <td>1310</td>\n",
       "      <td>886559</td>\n",
       "      <td>0.011583</td>\n",
       "    </tr>\n",
       "    <tr>\n",
       "      <th>2017-01-04</th>\n",
       "      <td>1305</td>\n",
       "      <td>1310</td>\n",
       "      <td>1280</td>\n",
       "      <td>1305</td>\n",
       "      <td>446070</td>\n",
       "      <td>-0.003817</td>\n",
       "    </tr>\n",
       "    <tr>\n",
       "      <th>2017-01-05</th>\n",
       "      <td>1305</td>\n",
       "      <td>1330</td>\n",
       "      <td>1300</td>\n",
       "      <td>1320</td>\n",
       "      <td>721691</td>\n",
       "      <td>0.011494</td>\n",
       "    </tr>\n",
       "    <tr>\n",
       "      <th>2017-01-06</th>\n",
       "      <td>1320</td>\n",
       "      <td>1345</td>\n",
       "      <td>1305</td>\n",
       "      <td>1325</td>\n",
       "      <td>645608</td>\n",
       "      <td>0.003788</td>\n",
       "    </tr>\n",
       "  </tbody>\n",
       "</table>\n",
       "</div>"
      ],
      "text/plain": [
       "            Open  High   Low  Close   Volume    Change\n",
       "Date                                                  \n",
       "2017-01-02  1260  1300  1255   1295  1232965  0.040161\n",
       "2017-01-03  1305  1315  1280   1310   886559  0.011583\n",
       "2017-01-04  1305  1310  1280   1305   446070 -0.003817\n",
       "2017-01-05  1305  1330  1300   1320   721691  0.011494\n",
       "2017-01-06  1320  1345  1305   1325   645608  0.003788"
      ]
     },
     "execution_count": 1,
     "metadata": {},
     "output_type": "execute_result"
    }
   ],
   "source": [
    "import FinanceDataReader as fdr\n",
    "\n",
    "samsung_df = fdr.DataReader('005390', '2017-01-01', '2017-12-31')\n",
    "samsung_df.head()"
   ]
  },
  {
   "cell_type": "markdown",
   "metadata": {},
   "source": [
    "## Stateful"
   ]
  },
  {
   "cell_type": "markdown",
   "metadata": {},
   "source": [
    "- Matplotlib이 암묵적으로 현재 상태를 들고 있음\n",
    "    - 내부적으로 현재 타겟이 되는 figure, ax 등을 설정하고, operation이 발생하면 '내부에서' 해당 figure,ax에 적용함\n",
    "- 사용은 비추\n",
    "    - matplotlib이 암묵적, 내부적으로 변화를 진행하고 적용하기 때문에, 직관적이지 못함\n",
    "    - 다수의 plot을 한번에 그리기 어려움\n",
    "    - 그냥 간단히 테스트 해볼 때 정도에만 사용"
   ]
  },
  {
   "cell_type": "code",
   "execution_count": 4,
   "metadata": {},
   "outputs": [],
   "source": [
    "x = [1,2,3]\n",
    "y = [4,5,6]"
   ]
  },
  {
   "cell_type": "code",
   "execution_count": 5,
   "metadata": {},
   "outputs": [
    {
     "data": {
      "image/png": "[encoded data removed]",
      "text/plain": [
       "<Figure size 432x288 with 1 Axes>"
      ]
     },
     "metadata": {
      "needs_background": "light"
     },
     "output_type": "display_data"
    }
   ],
   "source": [
    "something = plt.plot(x, y)\n",
    "# plt.show() -> matplotlib inline magic command를 실행하지 않았으면, 항상 필요!"
   ]
  },
  {
   "cell_type": "code",
   "execution_count": 6,
   "metadata": {},
   "outputs": [
    {
     "data": {
      "text/plain": [
       "[<matplotlib.lines.Line2D at 0x230eea30ee0>]"
      ]
     },
     "execution_count": 6,
     "metadata": {},
     "output_type": "execute_result"
    }
   ],
   "source": [
    "something"
   ]
  },
  {
   "cell_type": "code",
   "execution_count": 7,
   "metadata": {},
   "outputs": [
    {
     "data": {
      "text/plain": [
       "list"
      ]
     },
     "execution_count": 7,
     "metadata": {},
     "output_type": "execute_result"
    }
   ],
   "source": [
    "type(something)"
   ]
  },
  {
   "cell_type": "code",
   "execution_count": 8,
   "metadata": {},
   "outputs": [
    {
     "data": {
      "text/plain": [
       "matplotlib.lines.Line2D"
      ]
     },
     "execution_count": 8,
     "metadata": {},
     "output_type": "execute_result"
    }
   ],
   "source": [
    "type(something[0])"
   ]
  },
  {
   "cell_type": "code",
   "execution_count": 10,
   "metadata": {},
   "outputs": [
    {
     "data": {
      "image/png": "[encoded data removed]",
      "text/plain": [
       "<Figure size 432x288 with 1 Axes>"
      ]
     },
     "metadata": {
      "needs_background": "light"
     },
     "output_type": "display_data"
    }
   ],
   "source": [
    "# 딱 그래프만 출력이 되게하고, return이 되는 list는 안보이게 만드는 방법\n",
    "_ = plt.plot(x, y) # _는 다른 데이터는 필요없다는 관용적인 표현\n",
    "plt.plot(x, y); # ;을 붙이면 이것도 다른 데이터를 빼고 그래프만 보여줌"
   ]
  },
  {
   "cell_type": "markdown",
   "metadata": {},
   "source": [
    " "
   ]
  },
  {
   "cell_type": "markdown",
   "metadata": {},
   "source": [
    " "
   ]
  },
  {
   "cell_type": "markdown",
   "metadata": {},
   "source": [
    " "
   ]
  },
  {
   "cell_type": "markdown",
   "metadata": {},
   "source": [
    " "
   ]
  },
  {
   "cell_type": "markdown",
   "metadata": {},
   "source": [
    "- 예제1"
   ]
  },
  {
   "cell_type": "code",
   "execution_count": 11,
   "metadata": {},
   "outputs": [],
   "source": [
    "x = [-3, 5, 7]\n",
    "y = [10, 2, 5]"
   ]
  },
  {
   "cell_type": "code",
   "execution_count": 12,
   "metadata": {},
   "outputs": [
    {
     "data": {
      "image/png": "[encoded data removed]",
      "text/plain": [
       "<Figure size 1080x216 with 1 Axes>"
      ]
     },
     "metadata": {
      "needs_background": "light"
     },
     "output_type": "display_data"
    }
   ],
   "source": [
    "plt.figure(figsize=(15, 3));\n",
    "\n",
    "plt.plot(x, y);\n",
    "plt.xlim(0, 10);\n",
    "plt.ylim(-3, 8);\n",
    "plt.xlabel('X Axis');\n",
    "plt.ylabel('Y axis');\n",
    "plt.title('Line Plot');\n",
    "plt.suptitle('Figure Title', size=10, y=1.03);"
   ]
  },
  {
   "cell_type": "markdown",
   "metadata": {},
   "source": [
    "- 예제2"
   ]
  },
  {
   "cell_type": "code",
   "execution_count": 13,
   "metadata": {},
   "outputs": [
    {
     "data": {
      "text/html": [
       "<div>\n",
       "<style scoped>\n",
       "    .dataframe tbody tr th:only-of-type {\n",
       "        vertical-align: middle;\n",
       "    }\n",
       "\n",
       "    .dataframe tbody tr th {\n",
       "        vertical-align: top;\n",
       "    }\n",
       "\n",
       "    .dataframe thead th {\n",
       "        text-align: right;\n",
       "    }\n",
       "</style>\n",
       "<table border=\"1\" class=\"dataframe\">\n",
       "  <thead>\n",
       "    <tr style=\"text-align: right;\">\n",
       "      <th></th>\n",
       "      <th>Open</th>\n",
       "      <th>High</th>\n",
       "      <th>Low</th>\n",
       "      <th>Close</th>\n",
       "      <th>Volume</th>\n",
       "      <th>Change</th>\n",
       "    </tr>\n",
       "    <tr>\n",
       "      <th>Date</th>\n",
       "      <th></th>\n",
       "      <th></th>\n",
       "      <th></th>\n",
       "      <th></th>\n",
       "      <th></th>\n",
       "      <th></th>\n",
       "    </tr>\n",
       "  </thead>\n",
       "  <tbody>\n",
       "    <tr>\n",
       "      <th>2017-01-02</th>\n",
       "      <td>1260</td>\n",
       "      <td>1300</td>\n",
       "      <td>1255</td>\n",
       "      <td>1295</td>\n",
       "      <td>1232965</td>\n",
       "      <td>0.040</td>\n",
       "    </tr>\n",
       "    <tr>\n",
       "      <th>2017-01-03</th>\n",
       "      <td>1305</td>\n",
       "      <td>1315</td>\n",
       "      <td>1280</td>\n",
       "      <td>1310</td>\n",
       "      <td>886559</td>\n",
       "      <td>0.012</td>\n",
       "    </tr>\n",
       "    <tr>\n",
       "      <th>2017-01-04</th>\n",
       "      <td>1305</td>\n",
       "      <td>1310</td>\n",
       "      <td>1280</td>\n",
       "      <td>1305</td>\n",
       "      <td>446070</td>\n",
       "      <td>-0.004</td>\n",
       "    </tr>\n",
       "    <tr>\n",
       "      <th>2017-01-05</th>\n",
       "      <td>1305</td>\n",
       "      <td>1330</td>\n",
       "      <td>1300</td>\n",
       "      <td>1320</td>\n",
       "      <td>721691</td>\n",
       "      <td>0.011</td>\n",
       "    </tr>\n",
       "    <tr>\n",
       "      <th>2017-01-06</th>\n",
       "      <td>1320</td>\n",
       "      <td>1345</td>\n",
       "      <td>1305</td>\n",
       "      <td>1325</td>\n",
       "      <td>645608</td>\n",
       "      <td>0.004</td>\n",
       "    </tr>\n",
       "  </tbody>\n",
       "</table>\n",
       "</div>"
      ],
      "text/plain": [
       "            Open  High   Low  Close   Volume  Change\n",
       "Date                                                \n",
       "2017-01-02  1260  1300  1255   1295  1232965   0.040\n",
       "2017-01-03  1305  1315  1280   1310   886559   0.012\n",
       "2017-01-04  1305  1310  1280   1305   446070  -0.004\n",
       "2017-01-05  1305  1330  1300   1320   721691   0.011\n",
       "2017-01-06  1320  1345  1305   1325   645608   0.004"
      ]
     },
     "execution_count": 13,
     "metadata": {},
     "output_type": "execute_result"
    }
   ],
   "source": [
    "samsung_df.head()"
   ]
  },
  {
   "cell_type": "code",
   "execution_count": 14,
   "metadata": {},
   "outputs": [
    {
     "data": {
      "text/plain": [
       "[<matplotlib.lines.Line2D at 0x230eeb295e0>]"
      ]
     },
     "execution_count": 14,
     "metadata": {},
     "output_type": "execute_result"
    },
    {
     "data": {
      "image/png": "[encoded data removed]",
      "text/plain": [
       "<Figure size 432x288 with 1 Axes>"
      ]
     },
     "metadata": {
      "needs_background": "light"
     },
     "output_type": "display_data"
    }
   ],
   "source": [
    "plt.plot(\n",
    "    samsung_df.index,\n",
    "    samsung_df['Close']\n",
    ")"
   ]
  },
  {
   "cell_type": "markdown",
   "metadata": {},
   "source": [
    " "
   ]
  },
  {
   "cell_type": "markdown",
   "metadata": {},
   "source": [
    " "
   ]
  },
  {
   "cell_type": "markdown",
   "metadata": {},
   "source": [
    "## Stateless(or object-oriented)"
   ]
  },
  {
   "cell_type": "markdown",
   "metadata": {},
   "source": [
    "- Matplotlib의 각 component를 하나의 object로 받아서, 함수 실행 및 property 설정/변경\n",
    "    - figure, ax(es)를 먼저 생성한다음, 하나하나 더하고, 적용하는 식\n",
    "- 적용과정이 명시적으로 코드로 드러나기 때문에 조금 더 직관적임\n",
    " "
   ]
  },
  {
   "cell_type": "code",
   "execution_count": 15,
   "metadata": {},
   "outputs": [
    {
     "data": {
      "image/png": "[encoded data removed]",
      "text/plain": [
       "<Figure size 1080x216 with 1 Axes>"
      ]
     },
     "metadata": {
      "needs_background": "light"
     },
     "output_type": "display_data"
    }
   ],
   "source": [
    "x = [-3, 5, 7]\n",
    "y = [10, 2, 5]\n",
    "\n",
    "fig, ax = plt.subplots(figsize=(15, 3))"
   ]
  },
  {
   "cell_type": "code",
   "execution_count": 16,
   "metadata": {},
   "outputs": [
    {
     "data": {
      "text/plain": [
       "matplotlib.figure.Figure"
      ]
     },
     "execution_count": 16,
     "metadata": {},
     "output_type": "execute_result"
    },
    {
     "data": {
      "text/plain": [
       "matplotlib.axes._subplots.AxesSubplot"
      ]
     },
     "execution_count": 16,
     "metadata": {},
     "output_type": "execute_result"
    }
   ],
   "source": [
    "type(fig)\n",
    "type(ax)"
   ]
  },
  {
   "cell_type": "code",
   "execution_count": 17,
   "metadata": {},
   "outputs": [],
   "source": [
    "ax.plot(x, y);\n",
    "ax.set_xlim(0, 10);\n",
    "ax.set_ylim(-3, 8);\n",
    "ax.set_xlabel('X axis');\n",
    "ax.set_ylabel('Y axis');\n",
    "ax.set_title('Line Plot');\n",
    "fig.suptitle('Figure Title', size=10, y=1.03);"
   ]
  },
  {
   "cell_type": "code",
   "execution_count": 18,
   "metadata": {},
   "outputs": [
    {
     "data": {
      "image/png": "[encoded data removed]",
      "text/plain": [
       "<Figure size 1080x216 with 1 Axes>"
      ]
     },
     "execution_count": 18,
     "metadata": {},
     "output_type": "execute_result"
    }
   ],
   "source": [
    "fig"
   ]
  },
  {
   "cell_type": "markdown",
   "metadata": {},
   "source": [
    "- 한번에 시각화 그래프가 나오게 하기"
   ]
  },
  {
   "cell_type": "code",
   "execution_count": 19,
   "metadata": {},
   "outputs": [
    {
     "data": {
      "image/png": "[encoded data removed]",
      "text/plain": [
       "<Figure size 1080x216 with 1 Axes>"
      ]
     },
     "metadata": {
      "needs_background": "light"
     },
     "output_type": "display_data"
    }
   ],
   "source": [
    "fig, ax = plt.subplots(figsize=(15, 3))\n",
    "ax.plot(x, y);\n",
    "ax.set_xlim(0, 10);\n",
    "ax.set_ylim(-3, 8);\n",
    "ax.set_xlabel('X axis');\n",
    "ax.set_ylabel('Y axis');\n",
    "ax.set_title('Line Plot');\n",
    "fig.suptitle('Figure Title', size=10, y=1.03);"
   ]
  },
  {
   "cell_type": "code",
   "execution_count": 20,
   "metadata": {},
   "outputs": [
    {
     "data": {
      "text/plain": [
       "[<matplotlib.lines.Line2D at 0x230efcc3340>]"
      ]
     },
     "execution_count": 20,
     "metadata": {},
     "output_type": "execute_result"
    },
    {
     "data": {
      "image/png": "[encoded data removed]",
      "text/plain": [
       "<Figure size 1080x216 with 1 Axes>"
      ]
     },
     "metadata": {
      "needs_background": "light"
     },
     "output_type": "display_data"
    }
   ],
   "source": [
    "fig, ax = plt.subplots(figsize=(15, 3))\n",
    "ax.plot(samsung_df.index, samsung_df['Close'])"
   ]
  },
  {
   "cell_type": "markdown",
   "metadata": {},
   "source": [
    "-> OOP 방식으로 익히는 것이 확장성 및 추후 새로운 visualization lib에 대해 익힐 때 더 도움이 많이 됨!"
   ]
  },
  {
   "cell_type": "markdown",
   "metadata": {},
   "source": [
    " "
   ]
  },
  {
   "cell_type": "markdown",
   "metadata": {},
   "source": [
    " "
   ]
  },
  {
   "cell_type": "markdown",
   "metadata": {},
   "source": [
    " "
   ]
  },
  {
   "cell_type": "markdown",
   "metadata": {},
   "source": [
    "# Matplotlib components에 대해 조금 더 깊게 들여다보기"
   ]
  },
  {
   "cell_type": "markdown",
   "metadata": {},
   "source": [
    "## figure, axes"
   ]
  },
  {
   "cell_type": "code",
   "execution_count": null,
   "metadata": {},
   "outputs": [],
   "source": [
    "# fig, ax = plt.subplots(nrows=1, ncols=1) 이게 default임"
   ]
  },
  {
   "cell_type": "code",
   "execution_count": 24,
   "metadata": {},
   "outputs": [
    {
     "data": {
      "image/png": "[encoded data removed]",
      "text/plain": [
       "<Figure size 360x360 with 1 Axes>"
      ]
     },
     "metadata": {
      "needs_background": "light"
     },
     "output_type": "display_data"
    }
   ],
   "source": [
    "fig, ax = plt.subplots(figsize=(5, 5))"
   ]
  },
  {
   "cell_type": "code",
   "execution_count": 25,
   "metadata": {},
   "outputs": [
    {
     "data": {
      "text/plain": [
       "<AxesSubplot:>"
      ]
     },
     "execution_count": 25,
     "metadata": {},
     "output_type": "execute_result"
    }
   ],
   "source": [
    "ax"
   ]
  },
  {
   "cell_type": "code",
   "execution_count": 21,
   "metadata": {},
   "outputs": [
    {
     "data": {
      "image/png": "[encoded data removed]",
      "text/plain": [
       "<Figure size 720x720 with 4 Axes>"
      ]
     },
     "metadata": {
      "needs_background": "light"
     },
     "output_type": "display_data"
    }
   ],
   "source": [
    "fig, axes = plt.subplots(nrows=2, ncols=2, figsize=(10, 10))"
   ]
  },
  {
   "cell_type": "code",
   "execution_count": 22,
   "metadata": {},
   "outputs": [
    {
     "data": {
      "text/plain": [
       "matplotlib.figure.Figure"
      ]
     },
     "execution_count": 22,
     "metadata": {},
     "output_type": "execute_result"
    },
    {
     "data": {
      "text/plain": [
       "numpy.ndarray"
      ]
     },
     "execution_count": 22,
     "metadata": {},
     "output_type": "execute_result"
    }
   ],
   "source": [
    "type(fig)\n",
    "type(axes)   # 2차원 array (행렬형태)"
   ]
  },
  {
   "cell_type": "code",
   "execution_count": 23,
   "metadata": {},
   "outputs": [
    {
     "data": {
      "text/plain": [
       "<AxesSubplot:>"
      ]
     },
     "execution_count": 23,
     "metadata": {},
     "output_type": "execute_result"
    }
   ],
   "source": [
    "axes[0][0]   # 2차원 array에 대한 indexing으로 target ax에 접근"
   ]
  },
  {
   "cell_type": "markdown",
   "metadata": {},
   "source": [
    "- nrows or ncols가 1보다 크면, `ax`의 type은 `AxesSubplot`가 아니라 numpy array of `AxesSubplot` \n"
   ]
  },
  {
   "cell_type": "markdown",
   "metadata": {},
   "source": [
    " "
   ]
  },
  {
   "cell_type": "markdown",
   "metadata": {},
   "source": [
    " "
   ]
  },
  {
   "cell_type": "markdown",
   "metadata": {},
   "source": [
    "## Children of ax(es)"
   ]
  },
  {
   "cell_type": "code",
   "execution_count": 26,
   "metadata": {},
   "outputs": [
    {
     "data": {
      "text/plain": [
       "[<matplotlib.spines.Spine at 0x230efd14580>,\n",
       " <matplotlib.spines.Spine at 0x230efd14670>,\n",
       " <matplotlib.spines.Spine at 0x230efd14760>,\n",
       " <matplotlib.spines.Spine at 0x230efd14850>,\n",
       " <matplotlib.axis.XAxis at 0x230efd144f0>,\n",
       " <matplotlib.axis.YAxis at 0x230efd14c10>,\n",
       " Text(0.5, 1.0, ''),\n",
       " Text(0.0, 1.0, ''),\n",
       " Text(1.0, 1.0, ''),\n",
       " <matplotlib.patches.Rectangle at 0x230efd26190>]"
      ]
     },
     "execution_count": 26,
     "metadata": {},
     "output_type": "execute_result"
    }
   ],
   "source": [
    "axes[0][0].get_children()"
   ]
  },
  {
   "cell_type": "markdown",
   "metadata": {},
   "source": [
    "- `spines`: axes를 둘러싸고 있는 border\n",
    "- `axis`: x,y축\n",
    "    - `ticks`, `labels` 등을 가지고 있음"
   ]
  },
  {
   "cell_type": "markdown",
   "metadata": {},
   "source": [
    " "
   ]
  },
  {
   "cell_type": "markdown",
   "metadata": {},
   "source": [
    " "
   ]
  },
  {
   "cell_type": "markdown",
   "metadata": {},
   "source": [
    "- `axis`\n",
    "    - **Tip: get/set 관련 함수들을 잘 이용하기**"
   ]
  },
  {
   "cell_type": "code",
   "execution_count": 27,
   "metadata": {},
   "outputs": [],
   "source": [
    "ax = axes[0][0]"
   ]
  },
  {
   "cell_type": "code",
   "execution_count": 28,
   "metadata": {},
   "outputs": [
    {
     "data": {
      "text/plain": [
       "<matplotlib.axis.XAxis at 0x230efd144f0>"
      ]
     },
     "execution_count": 28,
     "metadata": {},
     "output_type": "execute_result"
    }
   ],
   "source": [
    "ax.xaxis"
   ]
  },
  {
   "cell_type": "code",
   "execution_count": 29,
   "metadata": {},
   "outputs": [
    {
     "data": {
      "text/plain": [
       "<matplotlib.axis.XAxis at 0x230efd144f0>"
      ]
     },
     "execution_count": 29,
     "metadata": {},
     "output_type": "execute_result"
    }
   ],
   "source": [
    "# get_xaxis() 메소드 내부에는 `return self.xaxis` 와 같이 구현이 되어있습니다.\n",
    "ax.get_xaxis()"
   ]
  },
  {
   "cell_type": "code",
   "execution_count": 30,
   "metadata": {},
   "outputs": [
    {
     "data": {
      "text/plain": [
       "True"
      ]
     },
     "execution_count": 30,
     "metadata": {},
     "output_type": "execute_result"
    }
   ],
   "source": [
    "ax.xaxis == ax.get_xaxis()"
   ]
  },
  {
   "cell_type": "markdown",
   "metadata": {},
   "source": [
    " "
   ]
  },
  {
   "cell_type": "markdown",
   "metadata": {},
   "source": [
    " "
   ]
  },
  {
   "cell_type": "markdown",
   "metadata": {},
   "source": [
    " "
   ]
  },
  {
   "cell_type": "markdown",
   "metadata": {},
   "source": [
    " "
   ]
  },
  {
   "cell_type": "markdown",
   "metadata": {},
   "source": [
    "## 예제"
   ]
  },
  {
   "cell_type": "code",
   "execution_count": 31,
   "metadata": {},
   "outputs": [],
   "source": [
    "data = fdr.DataReader(\"005930\", start=\"2019-01-01\", end=\"2020-01-01\")\n",
    "close_series = data['Close']\n",
    "volume_series = data['Volume']"
   ]
  },
  {
   "cell_type": "code",
   "execution_count": 32,
   "metadata": {},
   "outputs": [
    {
     "data": {
      "text/plain": [
       "Date\n",
       "2019-01-02    38750\n",
       "2019-01-03    37600\n",
       "2019-01-04    37450\n",
       "2019-01-07    38750\n",
       "2019-01-08    38100\n",
       "Name: Close, dtype: int64"
      ]
     },
     "execution_count": 32,
     "metadata": {},
     "output_type": "execute_result"
    },
    {
     "data": {
      "text/plain": [
       "Date\n",
       "2019-01-02     7847664\n",
       "2019-01-03    12471493\n",
       "2019-01-04    14108958\n",
       "2019-01-07    12748997\n",
       "2019-01-08    12756554\n",
       "Name: Volume, dtype: int64"
      ]
     },
     "execution_count": 32,
     "metadata": {},
     "output_type": "execute_result"
    }
   ],
   "source": [
    "close_series.head()\n",
    "volume_series.head()"
   ]
  },
  {
   "cell_type": "code",
   "execution_count": 33,
   "metadata": {},
   "outputs": [
    {
     "data": {
      "image/png": "[encoded data removed]",
      "text/plain": [
       "<Figure size 1008x720 with 2 Axes>"
      ]
     },
     "metadata": {
      "needs_background": "light"
     },
     "output_type": "display_data"
    }
   ],
   "source": [
    "fig, axes = plt.subplots(nrows=2, ncols=1, figsize=(14,10), sharex=True) #shareex=True 이면 x값을 공유하겠다\n",
    "ax1 = axes[0]\n",
    "ax2 = axes[1]\n",
    "\n",
    "# ax1\n",
    "ax1.plot(close_series.index, close_series, linewidth=2, linestyle='--', label=\"Close\");\n",
    "_ = ax1.set_title('Samsung price', fontsize=15, family='Arial');\n",
    "_ = ax1.set_ylabel('price', fontsize=15, family='Arial');\n",
    "_ = ax1.set_xlabel(\"date\", fontsize=15, family='Arial');\n",
    "ax1.legend(loc=\"upper left\");\n",
    "\n",
    "# ax2\n",
    "ax2.bar(volume_series.index, volume_series, label=\"volume\");\n",
    "_ = ax2.set_title('Samsung volume', fontsize=15, family='Arial');\n",
    "_ = ax2.set_ylabel('volume', fontsize=15, family='Arial');\n",
    "_ = ax2.set_xlabel(\"date\", fontsize=15, family='Arial');\n",
    "ax2.legend(loc=\"upper left\");\n",
    "\n",
    "fig.suptitle(\"<Samsung>\", fontsize=15, family='Verdana');"
   ]
  },
  {
   "cell_type": "markdown",
   "metadata": {},
   "source": [
    "- 참고"
   ]
  },
  {
   "cell_type": "code",
   "execution_count": 34,
   "metadata": {},
   "outputs": [
    {
     "data": {
      "text/plain": [
       "[<matplotlib.lines.Line2D at 0x230efcae550>]"
      ]
     },
     "execution_count": 34,
     "metadata": {},
     "output_type": "execute_result"
    },
    {
     "data": {
      "image/png": "[encoded data removed]",
      "text/plain": [
       "<Figure size 432x288 with 1 Axes>"
      ]
     },
     "metadata": {
      "needs_background": "light"
     },
     "output_type": "display_data"
    }
   ],
   "source": [
    "fig, ax = plt.subplots()\n",
    "ax.plot([5,6,7,8], marker='x')"
   ]
  },
  {
   "cell_type": "markdown",
   "metadata": {},
   "source": [
    " "
   ]
  },
  {
   "cell_type": "markdown",
   "metadata": {},
   "source": [
    " "
   ]
  },
  {
   "cell_type": "markdown",
   "metadata": {},
   "source": [
    " "
   ]
  },
  {
   "cell_type": "markdown",
   "metadata": {},
   "source": [
    " "
   ]
  },
  {
   "cell_type": "markdown",
   "metadata": {},
   "source": [
    " "
   ]
  },
  {
   "cell_type": "markdown",
   "metadata": {},
   "source": [
    " "
   ]
  },
  {
   "cell_type": "markdown",
   "metadata": {},
   "source": [
    "# Plotting with Pandas "
   ]
  },
  {
   "cell_type": "markdown",
   "metadata": {},
   "source": [
    "- DataFrame, Series는 `plot()`을 호출하면, 내부적으로 matplotlib api를 호출함\n",
    "- plot을 시행한 후 `ax`를 return함\n",
    "- matplotlib arg는 그대로 전달 가능\n",
    "- plot의 종류(`kind` arg)\n",
    "    - `bar, line, scatter`, etc\n",
    "    - `hist, box`, etc"
   ]
  },
  {
   "cell_type": "code",
   "execution_count": null,
   "metadata": {},
   "outputs": [],
   "source": [
    "import FinanceDataReader as fdr"
   ]
  },
  {
   "cell_type": "code",
   "execution_count": null,
   "metadata": {},
   "outputs": [],
   "source": [
    "samsung_series = fdr.DataReader(\"005930\", \"2017-01-01\", \"2018-01-01\")['Close']\n",
    "kodex_series = fdr.DataReader(\"069500\", \"2017-01-01\", \"2018-01-01\")['Close']"
   ]
  },
  {
   "cell_type": "code",
   "execution_count": null,
   "metadata": {},
   "outputs": [],
   "source": [
    "price_df = pd.concat([samsung_series, kodex_series], axis=1)\n",
    "price_df.columns = [\"삼성전자\", \"KODEX 200\"]\n",
    "price_df.head()"
   ]
  },
  {
   "cell_type": "code",
   "execution_count": null,
   "metadata": {},
   "outputs": [],
   "source": [
    "price_max_df = price_df.groupby(price_df.index.month).max()\n",
    "price_max_df.head()"
   ]
  },
  {
   "cell_type": "code",
   "execution_count": null,
   "metadata": {},
   "outputs": [],
   "source": [
    "# Series 혹은 DataFrame 변수에 대해 plot()함수만 호출하면 기본적인 plotting이 진행됨\n",
    "price_max_df.plot()"
   ]
  },
  {
   "cell_type": "markdown",
   "metadata": {},
   "source": [
    "- 미리 설정한 fig, ax에 대해 plotting하기 "
   ]
  },
  {
   "cell_type": "code",
   "execution_count": null,
   "metadata": {},
   "outputs": [],
   "source": [
    "fig, (ax1, ax2, ax3) = plt.subplots(1, 3, figsize=(16, 4))\n",
    "    \n",
    "price_max_df.plot(ax=ax1, kind='line');\n",
    "price_max_df.plot(ax=ax2, kind='bar');\n",
    "price_max_df.plot(ax=ax3, x='삼성전자', y='KODEX 200', kind='scatter');"
   ]
  },
  {
   "cell_type": "code",
   "execution_count": null,
   "metadata": {},
   "outputs": [],
   "source": [
    "price_max_df.hist(figsize=(15, 4), bins=30);"
   ]
  },
  {
   "cell_type": "markdown",
   "metadata": {},
   "source": [
    " "
   ]
  },
  {
   "cell_type": "markdown",
   "metadata": {},
   "source": [
    " "
   ]
  },
  {
   "cell_type": "markdown",
   "metadata": {},
   "source": [
    " "
   ]
  },
  {
   "cell_type": "markdown",
   "metadata": {},
   "source": [
    " "
   ]
  },
  {
   "cell_type": "markdown",
   "metadata": {},
   "source": [
    " "
   ]
  },
  {
   "cell_type": "markdown",
   "metadata": {},
   "source": [
    " "
   ]
  },
  {
   "cell_type": "code",
   "execution_count": null,
   "metadata": {},
   "outputs": [],
   "source": [
    "price_df.pct_change() # => p2/p1 - 1"
   ]
  },
  {
   "cell_type": "code",
   "execution_count": null,
   "metadata": {},
   "outputs": [],
   "source": [
    "fig, (ax1, ax2, ax3) = plt.subplots(1, 3, figsize=(16,4))\n",
    "\n",
    "price_df.pct_change().plot(kind='kde', ax=ax1, title='kde');\n",
    "price_df.pct_change().plot(kind='box', ax=ax2, title='box');\n",
    "price_df.pct_change().plot(kind='hist', ax=ax3, title='hist', bins=30);"
   ]
  },
  {
   "cell_type": "code",
   "execution_count": null,
   "metadata": {},
   "outputs": [],
   "source": [
    "fig, (ax1, ax2, ax3) = plt.subplots(1, 3, figsize=(16,4))\n",
    "\n",
    "price_df.pct_change().plot(x=\"삼성전자\", kind='kde', ax=ax1, title='kde');\n",
    "price_df.pct_change().plot(x=\"삼성전자\", kind='box', ax=ax2, title='box');\n",
    "price_df.pct_change().plot(x=\"삼성전자\", kind='hist', ax=ax3, title='hist', bins=30);"
   ]
  },
  {
   "cell_type": "markdown",
   "metadata": {},
   "source": [
    "- 한글 Font 가능하게\n",
    "    - Google에 \"matplotlib 한글\" or \"matplotlib 한글 windows\" 이라고 검색\n",
    "    - Window: https://financedata.github.io/posts/matplotlib-hangul-for-windows-anaconda.html\n",
    "    - Mac OS / Linux : http://corazzon.github.io/matplotlib_font_setting\n",
    "    - https://programmers.co.kr/learn/courses/21/lessons/950 등등"
   ]
  },
  {
   "cell_type": "code",
   "execution_count": null,
   "metadata": {},
   "outputs": [],
   "source": [
    "import matplotlib.font_manager as fm"
   ]
  },
  {
   "cell_type": "code",
   "execution_count": null,
   "metadata": {},
   "outputs": [],
   "source": [
    "for f in fm.fontManager.ttflist:\n",
    "    if 'Gothic' in f.name:\n",
    "        print((f.name, f.fname))"
   ]
  },
  {
   "cell_type": "code",
   "execution_count": null,
   "metadata": {},
   "outputs": [],
   "source": [
    "plt.rcParams[\"font.family\"] = 'AppleGothic'"
   ]
  },
  {
   "cell_type": "code",
   "execution_count": null,
   "metadata": {},
   "outputs": [],
   "source": [
    "fig, (ax1, ax2, ax3) = plt.subplots(1, 3, figsize=(16,4))\n",
    "\n",
    "price_df.pct_change().plot(kind='kde', ax=ax1, title='kde');\n",
    "price_df.pct_change().plot(kind='box', ax=ax2, title='box');\n",
    "price_df.pct_change().plot(kind='hist', ax=ax3, title='hist', bins=30);"
   ]
  },
  {
   "cell_type": "markdown",
   "metadata": {},
   "source": [
    "- minus가 깨지는 경우 해결법"
   ]
  },
  {
   "cell_type": "code",
   "execution_count": null,
   "metadata": {},
   "outputs": [],
   "source": [
    "import matplotlib as mpl\n",
    "\n",
    "mpl.rcParams['axes.unicode_minus'] = False"
   ]
  },
  {
   "cell_type": "markdown",
   "metadata": {},
   "source": [
    "matplotlib minus problem mac os"
   ]
  },
  {
   "cell_type": "markdown",
   "metadata": {},
   "source": [
    " "
   ]
  },
  {
   "cell_type": "markdown",
   "metadata": {},
   "source": [
    " "
   ]
  },
  {
   "cell_type": "markdown",
   "metadata": {},
   "source": [
    " "
   ]
  },
  {
   "cell_type": "markdown",
   "metadata": {},
   "source": [
    " "
   ]
  },
  {
   "cell_type": "markdown",
   "metadata": {},
   "source": [
    " "
   ]
  },
  {
   "cell_type": "markdown",
   "metadata": {},
   "source": [
    " "
   ]
  },
  {
   "cell_type": "markdown",
   "metadata": {},
   "source": [
    " "
   ]
  },
  {
   "cell_type": "markdown",
   "metadata": {
    "toc-hr-collapsed": false
   },
   "source": [
    "# Seaborn "
   ]
  },
  {
   "cell_type": "code",
   "execution_count": 1,
   "metadata": {},
   "outputs": [
    {
     "name": "stdout",
     "output_type": "stream",
     "text": [
      "Collecting seaborn==0.9.0\n",
      "  Downloading seaborn-0.9.0-py3-none-any.whl (208 kB)\n",
      "Requirement already satisfied: matplotlib>=1.4.3 in c:\\users\\administrator\\anaconda3\\lib\\site-packages (from seaborn==0.9.0) (3.3.4)\n",
      "Requirement already satisfied: pandas>=0.15.2 in c:\\users\\administrator\\anaconda3\\lib\\site-packages (from seaborn==0.9.0) (1.2.4)\n",
      "Requirement already satisfied: scipy>=0.14.0 in c:\\users\\administrator\\anaconda3\\lib\\site-packages (from seaborn==0.9.0) (1.6.2)\n",
      "Requirement already satisfied: numpy>=1.9.3 in c:\\users\\administrator\\anaconda3\\lib\\site-packages (from seaborn==0.9.0) (1.19.5)\n",
      "Requirement already satisfied: python-dateutil>=2.1 in c:\\users\\administrator\\anaconda3\\lib\\site-packages (from matplotlib>=1.4.3->seaborn==0.9.0) (2.8.1)\n",
      "Requirement already satisfied: pyparsing!=2.0.4,!=2.1.2,!=2.1.6,>=2.0.3 in c:\\users\\administrator\\anaconda3\\lib\\site-packages (from matplotlib>=1.4.3->seaborn==0.9.0) (2.4.7)\n",
      "Requirement already satisfied: kiwisolver>=1.0.1 in c:\\users\\administrator\\anaconda3\\lib\\site-packages (from matplotlib>=1.4.3->seaborn==0.9.0) (1.3.1)\n",
      "Requirement already satisfied: pillow>=6.2.0 in c:\\users\\administrator\\anaconda3\\lib\\site-packages (from matplotlib>=1.4.3->seaborn==0.9.0) (8.2.0)\n",
      "Requirement already satisfied: cycler>=0.10 in c:\\users\\administrator\\anaconda3\\lib\\site-packages (from matplotlib>=1.4.3->seaborn==0.9.0) (0.10.0)\n",
      "Requirement already satisfied: six in c:\\users\\administrator\\anaconda3\\lib\\site-packages (from cycler>=0.10->matplotlib>=1.4.3->seaborn==0.9.0) (1.15.0)\n",
      "Requirement already satisfied: pytz>=2017.3 in c:\\users\\administrator\\anaconda3\\lib\\site-packages (from pandas>=0.15.2->seaborn==0.9.0) (2021.1)\n",
      "Installing collected packages: seaborn\n",
      "  Attempting uninstall: seaborn\n",
      "    Found existing installation: seaborn 0.11.1\n",
      "    Uninstalling seaborn-0.11.1:\n",
      "      Successfully uninstalled seaborn-0.11.1\n",
      "Successfully installed seaborn-0.9.0\n"
     ]
    }
   ],
   "source": [
    "!pip install seaborn==0.9.0"
   ]
  },
  {
   "cell_type": "code",
   "execution_count": 3,
   "metadata": {},
   "outputs": [],
   "source": [
    "import seaborn as sns"
   ]
  },
  {
   "cell_type": "code",
   "execution_count": 5,
   "metadata": {},
   "outputs": [
    {
     "data": {
      "text/html": [
       "<div>\n",
       "<style scoped>\n",
       "    .dataframe tbody tr th:only-of-type {\n",
       "        vertical-align: middle;\n",
       "    }\n",
       "\n",
       "    .dataframe tbody tr th {\n",
       "        vertical-align: top;\n",
       "    }\n",
       "\n",
       "    .dataframe thead th {\n",
       "        text-align: right;\n",
       "    }\n",
       "</style>\n",
       "<table border=\"1\" class=\"dataframe\">\n",
       "  <thead>\n",
       "    <tr style=\"text-align: right;\">\n",
       "      <th></th>\n",
       "      <th>date</th>\n",
       "      <th>종목명</th>\n",
       "      <th>PBR(IFRS-연결)</th>\n",
       "      <th>베타 (M,5Yr)</th>\n",
       "      <th>수익률(%)</th>\n",
       "      <th>시가총액 (보통)(평균)(원)</th>\n",
       "    </tr>\n",
       "  </thead>\n",
       "  <tbody>\n",
       "    <tr>\n",
       "      <th>0</th>\n",
       "      <td>2000-07-31</td>\n",
       "      <td>BYC</td>\n",
       "      <td>0.210</td>\n",
       "      <td>0.479</td>\n",
       "      <td>-0.580</td>\n",
       "      <td>27786000000.000</td>\n",
       "    </tr>\n",
       "    <tr>\n",
       "      <th>1</th>\n",
       "      <td>2000-07-31</td>\n",
       "      <td>CJ</td>\n",
       "      <td>0.510</td>\n",
       "      <td>1.166</td>\n",
       "      <td>-9.000</td>\n",
       "      <td>1160889000000.000</td>\n",
       "    </tr>\n",
       "    <tr>\n",
       "      <th>2</th>\n",
       "      <td>2000-07-31</td>\n",
       "      <td>CJ ENM</td>\n",
       "      <td>6.560</td>\n",
       "      <td>NaN</td>\n",
       "      <td>17.400</td>\n",
       "      <td>400467000000.000</td>\n",
       "    </tr>\n",
       "    <tr>\n",
       "      <th>3</th>\n",
       "      <td>2000-07-31</td>\n",
       "      <td>CJ대한통운</td>\n",
       "      <td>0.170</td>\n",
       "      <td>1.314</td>\n",
       "      <td>-7.960</td>\n",
       "      <td>194962000000.000</td>\n",
       "    </tr>\n",
       "    <tr>\n",
       "      <th>4</th>\n",
       "      <td>2000-07-31</td>\n",
       "      <td>CJ씨푸드</td>\n",
       "      <td>NaN</td>\n",
       "      <td>0.227</td>\n",
       "      <td>32.000</td>\n",
       "      <td>1987000000.000</td>\n",
       "    </tr>\n",
       "  </tbody>\n",
       "</table>\n",
       "</div>"
      ],
      "text/plain": [
       "        date     종목명  PBR(IFRS-연결)  베타 (M,5Yr)  수익률(%)  시가총액 (보통)(평균)(원)\n",
       "0 2000-07-31     BYC         0.210       0.479  -0.580   27786000000.000\n",
       "1 2000-07-31      CJ         0.510       1.166  -9.000 1160889000000.000\n",
       "2 2000-07-31  CJ ENM         6.560         NaN  17.400  400467000000.000\n",
       "3 2000-07-31  CJ대한통운         0.170       1.314  -7.960  194962000000.000\n",
       "4 2000-07-31   CJ씨푸드           NaN       0.227  32.000    1987000000.000"
      ]
     },
     "execution_count": 5,
     "metadata": {},
     "output_type": "execute_result"
    }
   ],
   "source": [
    "df = pd.read_csv(\"my_data/Small_and_Big.csv\", index_col=0, parse_dates=[\"date\"])\n",
    "df.head()"
   ]
  },
  {
   "cell_type": "code",
   "execution_count": 6,
   "metadata": {},
   "outputs": [
    {
     "data": {
      "text/html": [
       "<div>\n",
       "<style scoped>\n",
       "    .dataframe tbody tr th:only-of-type {\n",
       "        vertical-align: middle;\n",
       "    }\n",
       "\n",
       "    .dataframe tbody tr th {\n",
       "        vertical-align: top;\n",
       "    }\n",
       "\n",
       "    .dataframe thead th {\n",
       "        text-align: right;\n",
       "    }\n",
       "</style>\n",
       "<table border=\"1\" class=\"dataframe\">\n",
       "  <thead>\n",
       "    <tr style=\"text-align: right;\">\n",
       "      <th></th>\n",
       "      <th>median_시가총액</th>\n",
       "    </tr>\n",
       "    <tr>\n",
       "      <th>date</th>\n",
       "      <th></th>\n",
       "    </tr>\n",
       "  </thead>\n",
       "  <tbody>\n",
       "    <tr>\n",
       "      <th>2000-07-31</th>\n",
       "      <td>34947000000.000</td>\n",
       "    </tr>\n",
       "    <tr>\n",
       "      <th>2000-08-31</th>\n",
       "      <td>33684000000.000</td>\n",
       "    </tr>\n",
       "    <tr>\n",
       "      <th>2000-09-30</th>\n",
       "      <td>33684000000.000</td>\n",
       "    </tr>\n",
       "    <tr>\n",
       "      <th>2000-10-31</th>\n",
       "      <td>30523000000.000</td>\n",
       "    </tr>\n",
       "    <tr>\n",
       "      <th>2000-11-30</th>\n",
       "      <td>30798000000.000</td>\n",
       "    </tr>\n",
       "  </tbody>\n",
       "</table>\n",
       "</div>"
      ],
      "text/plain": [
       "               median_시가총액\n",
       "date                      \n",
       "2000-07-31 34947000000.000\n",
       "2000-08-31 33684000000.000\n",
       "2000-09-30 33684000000.000\n",
       "2000-10-31 30523000000.000\n",
       "2000-11-30 30798000000.000"
      ]
     },
     "execution_count": 6,
     "metadata": {},
     "output_type": "execute_result"
    }
   ],
   "source": [
    "median_df = df.groupby(['date']).agg({'시가총액 (보통)(평균)(원)': 'median'})\n",
    "median_df.columns = [\"median_시가총액\"]\n",
    "median_df.head()"
   ]
  },
  {
   "cell_type": "code",
   "execution_count": 7,
   "metadata": {},
   "outputs": [],
   "source": [
    "df = df.join(median_df, on=\"date\")"
   ]
  },
  {
   "cell_type": "code",
   "execution_count": 8,
   "metadata": {},
   "outputs": [
    {
     "data": {
      "text/html": [
       "<div>\n",
       "<style scoped>\n",
       "    .dataframe tbody tr th:only-of-type {\n",
       "        vertical-align: middle;\n",
       "    }\n",
       "\n",
       "    .dataframe tbody tr th {\n",
       "        vertical-align: top;\n",
       "    }\n",
       "\n",
       "    .dataframe thead th {\n",
       "        text-align: right;\n",
       "    }\n",
       "</style>\n",
       "<table border=\"1\" class=\"dataframe\">\n",
       "  <thead>\n",
       "    <tr style=\"text-align: right;\">\n",
       "      <th></th>\n",
       "      <th>date</th>\n",
       "      <th>종목명</th>\n",
       "      <th>PBR(IFRS-연결)</th>\n",
       "      <th>베타 (M,5Yr)</th>\n",
       "      <th>수익률(%)</th>\n",
       "      <th>시가총액 (보통)(평균)(원)</th>\n",
       "      <th>median_시가총액</th>\n",
       "    </tr>\n",
       "  </thead>\n",
       "  <tbody>\n",
       "    <tr>\n",
       "      <th>0</th>\n",
       "      <td>2000-07-31</td>\n",
       "      <td>BYC</td>\n",
       "      <td>0.210</td>\n",
       "      <td>0.479</td>\n",
       "      <td>-0.580</td>\n",
       "      <td>27786000000.000</td>\n",
       "      <td>34947000000.000</td>\n",
       "    </tr>\n",
       "    <tr>\n",
       "      <th>1</th>\n",
       "      <td>2000-07-31</td>\n",
       "      <td>CJ</td>\n",
       "      <td>0.510</td>\n",
       "      <td>1.166</td>\n",
       "      <td>-9.000</td>\n",
       "      <td>1160889000000.000</td>\n",
       "      <td>34947000000.000</td>\n",
       "    </tr>\n",
       "    <tr>\n",
       "      <th>2</th>\n",
       "      <td>2000-07-31</td>\n",
       "      <td>CJ ENM</td>\n",
       "      <td>6.560</td>\n",
       "      <td>NaN</td>\n",
       "      <td>17.400</td>\n",
       "      <td>400467000000.000</td>\n",
       "      <td>34947000000.000</td>\n",
       "    </tr>\n",
       "    <tr>\n",
       "      <th>3</th>\n",
       "      <td>2000-07-31</td>\n",
       "      <td>CJ대한통운</td>\n",
       "      <td>0.170</td>\n",
       "      <td>1.314</td>\n",
       "      <td>-7.960</td>\n",
       "      <td>194962000000.000</td>\n",
       "      <td>34947000000.000</td>\n",
       "    </tr>\n",
       "    <tr>\n",
       "      <th>4</th>\n",
       "      <td>2000-07-31</td>\n",
       "      <td>CJ씨푸드</td>\n",
       "      <td>NaN</td>\n",
       "      <td>0.227</td>\n",
       "      <td>32.000</td>\n",
       "      <td>1987000000.000</td>\n",
       "      <td>34947000000.000</td>\n",
       "    </tr>\n",
       "    <tr>\n",
       "      <th>...</th>\n",
       "      <td>...</td>\n",
       "      <td>...</td>\n",
       "      <td>...</td>\n",
       "      <td>...</td>\n",
       "      <td>...</td>\n",
       "      <td>...</td>\n",
       "      <td>...</td>\n",
       "    </tr>\n",
       "    <tr>\n",
       "      <th>235924</th>\n",
       "      <td>2018-06-30</td>\n",
       "      <td>흥국에프엔비</td>\n",
       "      <td>0.950</td>\n",
       "      <td>1.364</td>\n",
       "      <td>-1.690</td>\n",
       "      <td>64926000000.000</td>\n",
       "      <td>164650000000.000</td>\n",
       "    </tr>\n",
       "    <tr>\n",
       "      <th>235925</th>\n",
       "      <td>2018-06-30</td>\n",
       "      <td>흥국화재</td>\n",
       "      <td>0.650</td>\n",
       "      <td>0.721</td>\n",
       "      <td>8.890</td>\n",
       "      <td>383175000000.000</td>\n",
       "      <td>164650000000.000</td>\n",
       "    </tr>\n",
       "    <tr>\n",
       "      <th>235926</th>\n",
       "      <td>2018-06-30</td>\n",
       "      <td>흥아해운</td>\n",
       "      <td>0.920</td>\n",
       "      <td>1.240</td>\n",
       "      <td>-5.750</td>\n",
       "      <td>134473000000.000</td>\n",
       "      <td>164650000000.000</td>\n",
       "    </tr>\n",
       "    <tr>\n",
       "      <th>235927</th>\n",
       "      <td>2018-06-30</td>\n",
       "      <td>희림</td>\n",
       "      <td>1.390</td>\n",
       "      <td>0.216</td>\n",
       "      <td>2.230</td>\n",
       "      <td>86250000000.000</td>\n",
       "      <td>164650000000.000</td>\n",
       "    </tr>\n",
       "    <tr>\n",
       "      <th>235928</th>\n",
       "      <td>2018-06-30</td>\n",
       "      <td>힘스</td>\n",
       "      <td>1.420</td>\n",
       "      <td>NaN</td>\n",
       "      <td>-15.820</td>\n",
       "      <td>82748000000.000</td>\n",
       "      <td>164650000000.000</td>\n",
       "    </tr>\n",
       "  </tbody>\n",
       "</table>\n",
       "<p>235929 rows × 7 columns</p>\n",
       "</div>"
      ],
      "text/plain": [
       "             date     종목명  PBR(IFRS-연결)  베타 (M,5Yr)  수익률(%)  시가총액 (보통)(평균)(원)  \\\n",
       "0      2000-07-31     BYC         0.210       0.479  -0.580   27786000000.000   \n",
       "1      2000-07-31      CJ         0.510       1.166  -9.000 1160889000000.000   \n",
       "2      2000-07-31  CJ ENM         6.560         NaN  17.400  400467000000.000   \n",
       "3      2000-07-31  CJ대한통운         0.170       1.314  -7.960  194962000000.000   \n",
       "4      2000-07-31   CJ씨푸드           NaN       0.227  32.000    1987000000.000   \n",
       "...           ...     ...           ...         ...     ...               ...   \n",
       "235924 2018-06-30  흥국에프엔비         0.950       1.364  -1.690   64926000000.000   \n",
       "235925 2018-06-30    흥국화재         0.650       0.721   8.890  383175000000.000   \n",
       "235926 2018-06-30    흥아해운         0.920       1.240  -5.750  134473000000.000   \n",
       "235927 2018-06-30      희림         1.390       0.216   2.230   86250000000.000   \n",
       "235928 2018-06-30      힘스         1.420         NaN -15.820   82748000000.000   \n",
       "\n",
       "            median_시가총액  \n",
       "0       34947000000.000  \n",
       "1       34947000000.000  \n",
       "2       34947000000.000  \n",
       "3       34947000000.000  \n",
       "4       34947000000.000  \n",
       "...                 ...  \n",
       "235924 164650000000.000  \n",
       "235925 164650000000.000  \n",
       "235926 164650000000.000  \n",
       "235927 164650000000.000  \n",
       "235928 164650000000.000  \n",
       "\n",
       "[235929 rows x 7 columns]"
      ]
     },
     "execution_count": 8,
     "metadata": {},
     "output_type": "execute_result"
    }
   ],
   "source": [
    "df"
   ]
  },
  {
   "cell_type": "code",
   "execution_count": 9,
   "metadata": {},
   "outputs": [],
   "source": [
    "df.loc[df['시가총액 (보통)(평균)(원)'] < df['median_시가총액'], \"size\"] = \"small\"\n",
    "df.loc[df['시가총액 (보통)(평균)(원)'] >= df['median_시가총액'], \"size\"] = \"big\""
   ]
  },
  {
   "cell_type": "code",
   "execution_count": 10,
   "metadata": {},
   "outputs": [
    {
     "data": {
      "text/html": [
       "<div>\n",
       "<style scoped>\n",
       "    .dataframe tbody tr th:only-of-type {\n",
       "        vertical-align: middle;\n",
       "    }\n",
       "\n",
       "    .dataframe tbody tr th {\n",
       "        vertical-align: top;\n",
       "    }\n",
       "\n",
       "    .dataframe thead th {\n",
       "        text-align: right;\n",
       "    }\n",
       "</style>\n",
       "<table border=\"1\" class=\"dataframe\">\n",
       "  <thead>\n",
       "    <tr style=\"text-align: right;\">\n",
       "      <th></th>\n",
       "      <th>date</th>\n",
       "      <th>종목명</th>\n",
       "      <th>PBR(IFRS-연결)</th>\n",
       "      <th>베타 (M,5Yr)</th>\n",
       "      <th>수익률(%)</th>\n",
       "      <th>시가총액 (보통)(평균)(원)</th>\n",
       "      <th>median_시가총액</th>\n",
       "      <th>size</th>\n",
       "    </tr>\n",
       "  </thead>\n",
       "  <tbody>\n",
       "    <tr>\n",
       "      <th>0</th>\n",
       "      <td>2000-07-31</td>\n",
       "      <td>BYC</td>\n",
       "      <td>0.210</td>\n",
       "      <td>0.479</td>\n",
       "      <td>-0.580</td>\n",
       "      <td>27786000000.000</td>\n",
       "      <td>34947000000.000</td>\n",
       "      <td>small</td>\n",
       "    </tr>\n",
       "    <tr>\n",
       "      <th>1</th>\n",
       "      <td>2000-07-31</td>\n",
       "      <td>CJ</td>\n",
       "      <td>0.510</td>\n",
       "      <td>1.166</td>\n",
       "      <td>-9.000</td>\n",
       "      <td>1160889000000.000</td>\n",
       "      <td>34947000000.000</td>\n",
       "      <td>big</td>\n",
       "    </tr>\n",
       "    <tr>\n",
       "      <th>2</th>\n",
       "      <td>2000-07-31</td>\n",
       "      <td>CJ ENM</td>\n",
       "      <td>6.560</td>\n",
       "      <td>NaN</td>\n",
       "      <td>17.400</td>\n",
       "      <td>400467000000.000</td>\n",
       "      <td>34947000000.000</td>\n",
       "      <td>big</td>\n",
       "    </tr>\n",
       "    <tr>\n",
       "      <th>3</th>\n",
       "      <td>2000-07-31</td>\n",
       "      <td>CJ대한통운</td>\n",
       "      <td>0.170</td>\n",
       "      <td>1.314</td>\n",
       "      <td>-7.960</td>\n",
       "      <td>194962000000.000</td>\n",
       "      <td>34947000000.000</td>\n",
       "      <td>big</td>\n",
       "    </tr>\n",
       "    <tr>\n",
       "      <th>4</th>\n",
       "      <td>2000-07-31</td>\n",
       "      <td>CJ씨푸드</td>\n",
       "      <td>NaN</td>\n",
       "      <td>0.227</td>\n",
       "      <td>32.000</td>\n",
       "      <td>1987000000.000</td>\n",
       "      <td>34947000000.000</td>\n",
       "      <td>small</td>\n",
       "    </tr>\n",
       "  </tbody>\n",
       "</table>\n",
       "</div>"
      ],
      "text/plain": [
       "        date     종목명  PBR(IFRS-연결)  베타 (M,5Yr)  수익률(%)  시가총액 (보통)(평균)(원)  \\\n",
       "0 2000-07-31     BYC         0.210       0.479  -0.580   27786000000.000   \n",
       "1 2000-07-31      CJ         0.510       1.166  -9.000 1160889000000.000   \n",
       "2 2000-07-31  CJ ENM         6.560         NaN  17.400  400467000000.000   \n",
       "3 2000-07-31  CJ대한통운         0.170       1.314  -7.960  194962000000.000   \n",
       "4 2000-07-31   CJ씨푸드           NaN       0.227  32.000    1987000000.000   \n",
       "\n",
       "      median_시가총액   size  \n",
       "0 34947000000.000  small  \n",
       "1 34947000000.000    big  \n",
       "2 34947000000.000    big  \n",
       "3 34947000000.000    big  \n",
       "4 34947000000.000  small  "
      ]
     },
     "execution_count": 10,
     "metadata": {},
     "output_type": "execute_result"
    }
   ],
   "source": [
    "df.head()"
   ]
  },
  {
   "cell_type": "markdown",
   "metadata": {},
   "source": [
    " "
   ]
  },
  {
   "cell_type": "markdown",
   "metadata": {},
   "source": [
    "  - 구글에 seaborn plot example치면 많이 나옴"
   ]
  },
  {
   "cell_type": "markdown",
   "metadata": {},
   "source": [
    " "
   ]
  },
  {
   "cell_type": "markdown",
   "metadata": {},
   "source": [
    " "
   ]
  },
  {
   "cell_type": "markdown",
   "metadata": {},
   "source": [
    "## Count plot"
   ]
  },
  {
   "cell_type": "markdown",
   "metadata": {},
   "source": [
    "- categorical data의 개수를 나타낼때 많이 쓰임"
   ]
  },
  {
   "cell_type": "markdown",
   "metadata": {},
   "source": [
    "### matplotlib version"
   ]
  },
  {
   "cell_type": "code",
   "execution_count": 11,
   "metadata": {},
   "outputs": [
    {
     "data": {
      "text/plain": [
       "big      118022\n",
       "small    117907\n",
       "Name: size, dtype: int64"
      ]
     },
     "execution_count": 11,
     "metadata": {},
     "output_type": "execute_result"
    }
   ],
   "source": [
    "df['size'].value_counts()"
   ]
  },
  {
   "cell_type": "code",
   "execution_count": 12,
   "metadata": {},
   "outputs": [
    {
     "data": {
      "image/png": "[encoded data removed]",
      "text/plain": [
       "<Figure size 432x288 with 1 Axes>"
      ]
     },
     "metadata": {
      "needs_background": "light"
     },
     "output_type": "display_data"
    }
   ],
   "source": [
    "df['size'].value_counts().plot(kind='bar');"
   ]
  },
  {
   "cell_type": "code",
   "execution_count": 13,
   "metadata": {},
   "outputs": [
    {
     "data": {
      "text/plain": [
       "<AxesSubplot:>"
      ]
     },
     "execution_count": 13,
     "metadata": {},
     "output_type": "execute_result"
    },
    {
     "data": {
      "image/png": "[encoded data removed]",
      "text/plain": [
       "<Figure size 432x288 with 1 Axes>"
      ]
     },
     "metadata": {
      "needs_background": "light"
     },
     "output_type": "display_data"
    }
   ],
   "source": [
    "df['size'].hist()"
   ]
  },
  {
   "cell_type": "markdown",
   "metadata": {},
   "source": [
    "### seaborn version"
   ]
  },
  {
   "cell_type": "code",
   "execution_count": 14,
   "metadata": {},
   "outputs": [
    {
     "data": {
      "text/plain": [
       "<AxesSubplot:xlabel='size', ylabel='count'>"
      ]
     },
     "execution_count": 14,
     "metadata": {},
     "output_type": "execute_result"
    },
    {
     "data": {
      "image/png": "[encoded data removed]",
      "text/plain": [
       "<Figure size 432x288 with 1 Axes>"
      ]
     },
     "metadata": {
      "needs_background": "light"
     },
     "output_type": "display_data"
    }
   ],
   "source": [
    "sns.countplot(x=\"size\", data=df)"
   ]
  },
  {
   "cell_type": "markdown",
   "metadata": {},
   "source": [
    " "
   ]
  },
  {
   "cell_type": "markdown",
   "metadata": {},
   "source": [
    " "
   ]
  },
  {
   "cell_type": "markdown",
   "metadata": {},
   "source": [
    " "
   ]
  },
  {
   "cell_type": "markdown",
   "metadata": {},
   "source": [
    " "
   ]
  },
  {
   "cell_type": "markdown",
   "metadata": {},
   "source": [
    "## 수익률 bar plot"
   ]
  },
  {
   "cell_type": "code",
   "execution_count": 15,
   "metadata": {},
   "outputs": [
    {
     "data": {
      "text/plain": [
       "(235929, 8)"
      ]
     },
     "execution_count": 15,
     "metadata": {},
     "output_type": "execute_result"
    }
   ],
   "source": [
    "df.shape"
   ]
  },
  {
   "cell_type": "code",
   "execution_count": 16,
   "metadata": {},
   "outputs": [],
   "source": [
    "# 데이터 사이즈 줄이기\n",
    "df = df[df['date'] >= \"2017-01-01\"]"
   ]
  },
  {
   "cell_type": "code",
   "execution_count": 17,
   "metadata": {},
   "outputs": [
    {
     "data": {
      "text/plain": [
       "(28279, 8)"
      ]
     },
     "execution_count": 17,
     "metadata": {},
     "output_type": "execute_result"
    }
   ],
   "source": [
    "df.shape"
   ]
  },
  {
   "cell_type": "code",
   "execution_count": 18,
   "metadata": {},
   "outputs": [
    {
     "data": {
      "text/html": [
       "<div>\n",
       "<style scoped>\n",
       "    .dataframe tbody tr th:only-of-type {\n",
       "        vertical-align: middle;\n",
       "    }\n",
       "\n",
       "    .dataframe tbody tr th {\n",
       "        vertical-align: top;\n",
       "    }\n",
       "\n",
       "    .dataframe thead th {\n",
       "        text-align: right;\n",
       "    }\n",
       "</style>\n",
       "<table border=\"1\" class=\"dataframe\">\n",
       "  <thead>\n",
       "    <tr style=\"text-align: right;\">\n",
       "      <th></th>\n",
       "      <th>date</th>\n",
       "      <th>종목명</th>\n",
       "      <th>PBR(IFRS-연결)</th>\n",
       "      <th>베타 (M,5Yr)</th>\n",
       "      <th>수익률(%)</th>\n",
       "      <th>시가총액 (보통)(평균)(원)</th>\n",
       "      <th>median_시가총액</th>\n",
       "      <th>size</th>\n",
       "    </tr>\n",
       "  </thead>\n",
       "  <tbody>\n",
       "    <tr>\n",
       "      <th>207650</th>\n",
       "      <td>2017-01-31</td>\n",
       "      <td>3S</td>\n",
       "      <td>3.220</td>\n",
       "      <td>1.225</td>\n",
       "      <td>-2.150</td>\n",
       "      <td>121442000000.000</td>\n",
       "      <td>138218500000.000</td>\n",
       "      <td>small</td>\n",
       "    </tr>\n",
       "    <tr>\n",
       "      <th>207651</th>\n",
       "      <td>2017-01-31</td>\n",
       "      <td>AJ네트웍스</td>\n",
       "      <td>0.890</td>\n",
       "      <td>NaN</td>\n",
       "      <td>-17.850</td>\n",
       "      <td>286576000000.000</td>\n",
       "      <td>138218500000.000</td>\n",
       "      <td>big</td>\n",
       "    </tr>\n",
       "    <tr>\n",
       "      <th>207652</th>\n",
       "      <td>2017-01-31</td>\n",
       "      <td>AJ렌터카</td>\n",
       "      <td>0.840</td>\n",
       "      <td>0.180</td>\n",
       "      <td>6.350</td>\n",
       "      <td>184235000000.000</td>\n",
       "      <td>138218500000.000</td>\n",
       "      <td>big</td>\n",
       "    </tr>\n",
       "    <tr>\n",
       "      <th>207653</th>\n",
       "      <td>2017-01-31</td>\n",
       "      <td>AP위성</td>\n",
       "      <td>1.400</td>\n",
       "      <td>NaN</td>\n",
       "      <td>-2.730</td>\n",
       "      <td>134105000000.000</td>\n",
       "      <td>138218500000.000</td>\n",
       "      <td>small</td>\n",
       "    </tr>\n",
       "    <tr>\n",
       "      <th>207654</th>\n",
       "      <td>2017-01-31</td>\n",
       "      <td>BGF</td>\n",
       "      <td>2.530</td>\n",
       "      <td>-0.673</td>\n",
       "      <td>12.100</td>\n",
       "      <td>4328976000000.000</td>\n",
       "      <td>138218500000.000</td>\n",
       "      <td>big</td>\n",
       "    </tr>\n",
       "  </tbody>\n",
       "</table>\n",
       "</div>"
      ],
      "text/plain": [
       "             date     종목명  PBR(IFRS-연결)  베타 (M,5Yr)  수익률(%)  시가총액 (보통)(평균)(원)  \\\n",
       "207650 2017-01-31      3S         3.220       1.225  -2.150  121442000000.000   \n",
       "207651 2017-01-31  AJ네트웍스         0.890         NaN -17.850  286576000000.000   \n",
       "207652 2017-01-31   AJ렌터카         0.840       0.180   6.350  184235000000.000   \n",
       "207653 2017-01-31    AP위성         1.400         NaN  -2.730  134105000000.000   \n",
       "207654 2017-01-31     BGF         2.530      -0.673  12.100 4328976000000.000   \n",
       "\n",
       "            median_시가총액   size  \n",
       "207650 138218500000.000  small  \n",
       "207651 138218500000.000    big  \n",
       "207652 138218500000.000    big  \n",
       "207653 138218500000.000  small  \n",
       "207654 138218500000.000    big  "
      ]
     },
     "execution_count": 18,
     "metadata": {},
     "output_type": "execute_result"
    }
   ],
   "source": [
    "df.head()"
   ]
  },
  {
   "cell_type": "markdown",
   "metadata": {},
   "source": [
    "### matplotlib version "
   ]
  },
  {
   "cell_type": "code",
   "execution_count": 19,
   "metadata": {},
   "outputs": [
    {
     "data": {
      "text/plain": [
       "date\n",
       "2017-01-31   -1.083\n",
       "2017-02-28    0.252\n",
       "2017-03-31    1.845\n",
       "2017-04-30    1.845\n",
       "2017-05-31    4.130\n",
       "2017-06-30    0.831\n",
       "2017-07-31   -3.174\n",
       "2017-08-31    0.540\n",
       "2017-09-30    0.540\n",
       "2017-10-31    3.632\n",
       "2017-11-30    5.547\n",
       "2017-12-31    5.547\n",
       "2018-01-31   12.478\n",
       "2018-02-28   -3.717\n",
       "2018-03-31   -3.717\n",
       "2018-04-30    6.085\n",
       "2018-05-31    1.051\n",
       "2018-06-30    1.051\n",
       "Name: 수익률(%), dtype: float64"
      ]
     },
     "execution_count": 19,
     "metadata": {},
     "output_type": "execute_result"
    }
   ],
   "source": [
    "df.groupby(['date'])['수익률(%)'].mean()"
   ]
  },
  {
   "cell_type": "code",
   "execution_count": 20,
   "metadata": {},
   "outputs": [
    {
     "data": {
      "text/plain": [
       "<AxesSubplot:xlabel='date'>"
      ]
     },
     "execution_count": 20,
     "metadata": {},
     "output_type": "execute_result"
    },
    {
     "data": {
      "image/png": "[encoded data removed]",
      "text/plain": [
       "<Figure size 1296x216 with 1 Axes>"
      ]
     },
     "metadata": {
      "needs_background": "light"
     },
     "output_type": "display_data"
    }
   ],
   "source": [
    "df.groupby(['date'])['수익률(%)'].mean().plot(kind='bar', figsize=(18, 3))"
   ]
  },
  {
   "cell_type": "code",
   "execution_count": 21,
   "metadata": {},
   "outputs": [
    {
     "name": "stderr",
     "output_type": "stream",
     "text": [
      "<ipython-input-21-c4f20e4093eb>:2: SettingWithCopyWarning: \n",
      "A value is trying to be set on a copy of a slice from a DataFrame.\n",
      "Try using .loc[row_indexer,col_indexer] = value instead\n",
      "\n",
      "See the caveats in the documentation: https://pandas.pydata.org/pandas-docs/stable/user_guide/indexing.html#returning-a-view-versus-a-copy\n",
      "  df['date'] = df['date'].dt.strftime(\"%Y-%m-%d\")   # %Y, %m 등과 같은 표현에 대해서 조금더 자세하게 알고 싶으신 분은 구글에 python datetime format으로 검색해보세요!\n"
     ]
    }
   ],
   "source": [
    "# 날짜 x tick label을 조금더 심플하게 나타나도록 만들기: DateTime object -> 문자열 object로 변환\n",
    "df['date'] = df['date'].dt.strftime(\"%Y-%m-%d\")   # %Y, %m 등과 같은 표현에 대해서 조금더 자세하게 알고 싶으신 분은 구글에 python datetime format으로 검색해보세요!"
   ]
  },
  {
   "cell_type": "code",
   "execution_count": null,
   "metadata": {},
   "outputs": [],
   "source": [
    "# datetime \n",
    "# strftime -> object를 string 타입의 데이터로 바꿈\n",
    "# strptime -> string 타입으로 되어 있는 데이터를 object로 바꿈"
   ]
  },
  {
   "cell_type": "code",
   "execution_count": 22,
   "metadata": {},
   "outputs": [
    {
     "data": {
      "text/plain": [
       "<AxesSubplot:xlabel='date'>"
      ]
     },
     "execution_count": 22,
     "metadata": {},
     "output_type": "execute_result"
    },
    {
     "data": {
      "image/png": "[encoded data removed]",
      "text/plain": [
       "<Figure size 1296x216 with 1 Axes>"
      ]
     },
     "metadata": {
      "needs_background": "light"
     },
     "output_type": "display_data"
    }
   ],
   "source": [
    "df.groupby(['date'])['수익률(%)'].mean().plot(kind='bar', figsize=(18, 3))"
   ]
  },
  {
   "cell_type": "markdown",
   "metadata": {},
   "source": [
    "### seaborn version "
   ]
  },
  {
   "cell_type": "code",
   "execution_count": 23,
   "metadata": {},
   "outputs": [
    {
     "data": {
      "text/plain": [
       "<AxesSubplot:xlabel='date', ylabel='수익률(%)'>"
      ]
     },
     "execution_count": 23,
     "metadata": {},
     "output_type": "execute_result"
    },
    {
     "name": "stderr",
     "output_type": "stream",
     "text": [
      "C:\\Users\\Administrator\\anaconda3\\lib\\site-packages\\matplotlib\\backends\\backend_agg.py:238: RuntimeWarning: Glyph 49688 missing from current font.\n",
      "  font.set_text(s, 0.0, flags=flags)\n",
      "C:\\Users\\Administrator\\anaconda3\\lib\\site-packages\\matplotlib\\backends\\backend_agg.py:238: RuntimeWarning: Glyph 51061 missing from current font.\n",
      "  font.set_text(s, 0.0, flags=flags)\n",
      "C:\\Users\\Administrator\\anaconda3\\lib\\site-packages\\matplotlib\\backends\\backend_agg.py:238: RuntimeWarning: Glyph 47456 missing from current font.\n",
      "  font.set_text(s, 0.0, flags=flags)\n",
      "C:\\Users\\Administrator\\anaconda3\\lib\\site-packages\\matplotlib\\backends\\backend_agg.py:201: RuntimeWarning: Glyph 49688 missing from current font.\n",
      "  font.set_text(s, 0, flags=flags)\n",
      "C:\\Users\\Administrator\\anaconda3\\lib\\site-packages\\matplotlib\\backends\\backend_agg.py:201: RuntimeWarning: Glyph 51061 missing from current font.\n",
      "  font.set_text(s, 0, flags=flags)\n",
      "C:\\Users\\Administrator\\anaconda3\\lib\\site-packages\\matplotlib\\backends\\backend_agg.py:201: RuntimeWarning: Glyph 47456 missing from current font.\n",
      "  font.set_text(s, 0, flags=flags)\n"
     ]
    },
    {
     "data": {
      "image/png": "[encoded data removed]",
      "text/plain": [
       "<Figure size 432x288 with 1 Axes>"
      ]
     },
     "metadata": {
      "needs_background": "light"
     },
     "output_type": "display_data"
    }
   ],
   "source": [
    "sns.barplot(data=df, x=\"date\", y=\"수익률(%)\")"
   ]
  },
  {
   "cell_type": "code",
   "execution_count": 26,
   "metadata": {},
   "outputs": [
    {
     "data": {
      "image/png": "[encoded data removed]",
      "text/plain": [
       "<Figure size 1296x216 with 1 Axes>"
      ]
     },
     "metadata": {
      "needs_background": "light"
     },
     "output_type": "display_data"
    }
   ],
   "source": [
    "fig, ax = plt.subplots(nrows=1, ncols=1, figsize=(18, 3))\n",
    "ax = sns.barplot(data=df, x=\"date\", y=\"수익률(%)\", ax=ax);"
   ]
  },
  {
   "cell_type": "markdown",
   "metadata": {},
   "source": [
    "- 검정색 선을 신뢰구간을 나타냄(표준편차) 이것을 tidy data라고 함"
   ]
  },
  {
   "cell_type": "markdown",
   "metadata": {},
   "source": [
    "- x tick label을 45도 돌리기"
   ]
  },
  {
   "cell_type": "code",
   "execution_count": 27,
   "metadata": {},
   "outputs": [
    {
     "data": {
      "image/png": "[encoded data removed]",
      "text/plain": [
       "<Figure size 1296x216 with 1 Axes>"
      ]
     },
     "metadata": {
      "needs_background": "light"
     },
     "output_type": "display_data"
    }
   ],
   "source": [
    "fig, ax = plt.subplots(nrows=1, ncols=1, figsize=(18, 3))\n",
    "ax = sns.barplot(data=df, x=\"date\", y=\"수익률(%)\", ax=ax);\n",
    "\n",
    "current_x_tick_label = ax.get_xticklabels()\n",
    "ax.set_xticklabels(current_x_tick_label, rotation=45);"
   ]
  },
  {
   "cell_type": "markdown",
   "metadata": {},
   "source": [
    "- hue 넣기(빛깔, 색조를 의미) 구분자를 나타냄"
   ]
  },
  {
   "cell_type": "code",
   "execution_count": 28,
   "metadata": {},
   "outputs": [
    {
     "data": {
      "image/png": "[encoded data removed]",
      "text/plain": [
       "<Figure size 1296x216 with 1 Axes>"
      ]
     },
     "metadata": {
      "needs_background": "light"
     },
     "output_type": "display_data"
    }
   ],
   "source": [
    "fig, ax = plt.subplots(nrows=1, ncols=1, figsize=(18, 3))\n",
    "sns.barplot(data=df, x=\"date\", y=\"수익률(%)\", ax=ax, hue=\"size\")\n",
    "\n",
    "current_x_tick_label = ax.get_xticklabels()\n",
    "ax.set_xticklabels(current_x_tick_label, rotation=45);"
   ]
  },
  {
   "cell_type": "markdown",
   "metadata": {},
   "source": [
    " "
   ]
  },
  {
   "cell_type": "markdown",
   "metadata": {},
   "source": [
    " "
   ]
  },
  {
   "cell_type": "markdown",
   "metadata": {},
   "source": [
    " "
   ]
  },
  {
   "cell_type": "markdown",
   "metadata": {},
   "source": [
    " "
   ]
  },
  {
   "cell_type": "markdown",
   "metadata": {},
   "source": [
    "## relation plot (다차원 그래프)"
   ]
  },
  {
   "cell_type": "code",
   "execution_count": 29,
   "metadata": {},
   "outputs": [
    {
     "data": {
      "text/html": [
       "<div>\n",
       "<style scoped>\n",
       "    .dataframe tbody tr th:only-of-type {\n",
       "        vertical-align: middle;\n",
       "    }\n",
       "\n",
       "    .dataframe tbody tr th {\n",
       "        vertical-align: top;\n",
       "    }\n",
       "\n",
       "    .dataframe thead th {\n",
       "        text-align: right;\n",
       "    }\n",
       "</style>\n",
       "<table border=\"1\" class=\"dataframe\">\n",
       "  <thead>\n",
       "    <tr style=\"text-align: right;\">\n",
       "      <th></th>\n",
       "      <th>date</th>\n",
       "      <th>종목명</th>\n",
       "      <th>PBR(IFRS-연결)</th>\n",
       "      <th>베타 (M,5Yr)</th>\n",
       "      <th>수익률(%)</th>\n",
       "      <th>시가총액 (보통)(평균)(원)</th>\n",
       "      <th>median_시가총액</th>\n",
       "      <th>size</th>\n",
       "    </tr>\n",
       "  </thead>\n",
       "  <tbody>\n",
       "    <tr>\n",
       "      <th>207650</th>\n",
       "      <td>2017-01-31</td>\n",
       "      <td>3S</td>\n",
       "      <td>3.220</td>\n",
       "      <td>1.225</td>\n",
       "      <td>-2.150</td>\n",
       "      <td>121442000000.000</td>\n",
       "      <td>138218500000.000</td>\n",
       "      <td>small</td>\n",
       "    </tr>\n",
       "    <tr>\n",
       "      <th>207651</th>\n",
       "      <td>2017-01-31</td>\n",
       "      <td>AJ네트웍스</td>\n",
       "      <td>0.890</td>\n",
       "      <td>NaN</td>\n",
       "      <td>-17.850</td>\n",
       "      <td>286576000000.000</td>\n",
       "      <td>138218500000.000</td>\n",
       "      <td>big</td>\n",
       "    </tr>\n",
       "  </tbody>\n",
       "</table>\n",
       "</div>"
      ],
      "text/plain": [
       "              date     종목명  PBR(IFRS-연결)  베타 (M,5Yr)  수익률(%)  \\\n",
       "207650  2017-01-31      3S         3.220       1.225  -2.150   \n",
       "207651  2017-01-31  AJ네트웍스         0.890         NaN -17.850   \n",
       "\n",
       "        시가총액 (보통)(평균)(원)      median_시가총액   size  \n",
       "207650  121442000000.000 138218500000.000  small  \n",
       "207651  286576000000.000 138218500000.000    big  "
      ]
     },
     "execution_count": 29,
     "metadata": {},
     "output_type": "execute_result"
    }
   ],
   "source": [
    "df.head(2)"
   ]
  },
  {
   "cell_type": "code",
   "execution_count": 30,
   "metadata": {},
   "outputs": [
    {
     "name": "stderr",
     "output_type": "stream",
     "text": [
      "C:\\Users\\Administrator\\anaconda3\\lib\\site-packages\\matplotlib\\backends\\backend_agg.py:238: RuntimeWarning: Glyph 50672 missing from current font.\n",
      "  font.set_text(s, 0.0, flags=flags)\n",
      "C:\\Users\\Administrator\\anaconda3\\lib\\site-packages\\matplotlib\\backends\\backend_agg.py:238: RuntimeWarning: Glyph 44208 missing from current font.\n",
      "  font.set_text(s, 0.0, flags=flags)\n",
      "C:\\Users\\Administrator\\anaconda3\\lib\\site-packages\\matplotlib\\backends\\backend_agg.py:238: RuntimeWarning: Glyph 49688 missing from current font.\n",
      "  font.set_text(s, 0.0, flags=flags)\n",
      "C:\\Users\\Administrator\\anaconda3\\lib\\site-packages\\matplotlib\\backends\\backend_agg.py:238: RuntimeWarning: Glyph 51061 missing from current font.\n",
      "  font.set_text(s, 0.0, flags=flags)\n",
      "C:\\Users\\Administrator\\anaconda3\\lib\\site-packages\\matplotlib\\backends\\backend_agg.py:238: RuntimeWarning: Glyph 47456 missing from current font.\n",
      "  font.set_text(s, 0.0, flags=flags)\n",
      "C:\\Users\\Administrator\\anaconda3\\lib\\site-packages\\matplotlib\\backends\\backend_agg.py:201: RuntimeWarning: Glyph 50672 missing from current font.\n",
      "  font.set_text(s, 0, flags=flags)\n",
      "C:\\Users\\Administrator\\anaconda3\\lib\\site-packages\\matplotlib\\backends\\backend_agg.py:201: RuntimeWarning: Glyph 44208 missing from current font.\n",
      "  font.set_text(s, 0, flags=flags)\n",
      "C:\\Users\\Administrator\\anaconda3\\lib\\site-packages\\matplotlib\\backends\\backend_agg.py:201: RuntimeWarning: Glyph 49688 missing from current font.\n",
      "  font.set_text(s, 0, flags=flags)\n",
      "C:\\Users\\Administrator\\anaconda3\\lib\\site-packages\\matplotlib\\backends\\backend_agg.py:201: RuntimeWarning: Glyph 51061 missing from current font.\n",
      "  font.set_text(s, 0, flags=flags)\n",
      "C:\\Users\\Administrator\\anaconda3\\lib\\site-packages\\matplotlib\\backends\\backend_agg.py:201: RuntimeWarning: Glyph 47456 missing from current font.\n",
      "  font.set_text(s, 0, flags=flags)\n",
      "C:\\Users\\Administrator\\anaconda3\\lib\\site-packages\\matplotlib\\backends\\backend_agg.py:238: RuntimeWarning: Glyph 48288 missing from current font.\n",
      "  font.set_text(s, 0.0, flags=flags)\n",
      "C:\\Users\\Administrator\\anaconda3\\lib\\site-packages\\matplotlib\\backends\\backend_agg.py:238: RuntimeWarning: Glyph 53440 missing from current font.\n",
      "  font.set_text(s, 0.0, flags=flags)\n",
      "C:\\Users\\Administrator\\anaconda3\\lib\\site-packages\\matplotlib\\backends\\backend_agg.py:201: RuntimeWarning: Glyph 48288 missing from current font.\n",
      "  font.set_text(s, 0, flags=flags)\n",
      "C:\\Users\\Administrator\\anaconda3\\lib\\site-packages\\matplotlib\\backends\\backend_agg.py:201: RuntimeWarning: Glyph 53440 missing from current font.\n",
      "  font.set_text(s, 0, flags=flags)\n"
     ]
    },
    {
     "data": {
      "text/plain": [
       "<seaborn.axisgrid.FacetGrid at 0x2afecd6ad30>"
      ]
     },
     "execution_count": 30,
     "metadata": {},
     "output_type": "execute_result"
    },
    {
     "data": {
      "image/png": "[encoded data removed]",
      "text/plain": [
       "<Figure size 807.125x360 with 2 Axes>"
      ]
     },
     "metadata": {
      "needs_background": "light"
     },
     "output_type": "display_data"
    }
   ],
   "source": [
    "sns.relplot(\n",
    "    x=\"PBR(IFRS-연결)\",\n",
    "    y=\"수익률(%)\",\n",
    "    col=\"size\",\n",
    "    hue=\"베타 (M,5Yr)\",\n",
    "    data=df,\n",
    "    \n",
    "    palette=\"coolwarm\",\n",
    ")"
   ]
  },
  {
   "cell_type": "code",
   "execution_count": 31,
   "metadata": {},
   "outputs": [
    {
     "name": "stderr",
     "output_type": "stream",
     "text": [
      "C:\\Users\\Administrator\\anaconda3\\lib\\site-packages\\matplotlib\\backends\\backend_agg.py:238: RuntimeWarning: Glyph 50672 missing from current font.\n",
      "  font.set_text(s, 0.0, flags=flags)\n",
      "C:\\Users\\Administrator\\anaconda3\\lib\\site-packages\\matplotlib\\backends\\backend_agg.py:238: RuntimeWarning: Glyph 44208 missing from current font.\n",
      "  font.set_text(s, 0.0, flags=flags)\n",
      "C:\\Users\\Administrator\\anaconda3\\lib\\site-packages\\matplotlib\\backends\\backend_agg.py:238: RuntimeWarning: Glyph 49688 missing from current font.\n",
      "  font.set_text(s, 0.0, flags=flags)\n",
      "C:\\Users\\Administrator\\anaconda3\\lib\\site-packages\\matplotlib\\backends\\backend_agg.py:238: RuntimeWarning: Glyph 51061 missing from current font.\n",
      "  font.set_text(s, 0.0, flags=flags)\n",
      "C:\\Users\\Administrator\\anaconda3\\lib\\site-packages\\matplotlib\\backends\\backend_agg.py:238: RuntimeWarning: Glyph 47456 missing from current font.\n",
      "  font.set_text(s, 0.0, flags=flags)\n",
      "C:\\Users\\Administrator\\anaconda3\\lib\\site-packages\\matplotlib\\backends\\backend_agg.py:201: RuntimeWarning: Glyph 50672 missing from current font.\n",
      "  font.set_text(s, 0, flags=flags)\n",
      "C:\\Users\\Administrator\\anaconda3\\lib\\site-packages\\matplotlib\\backends\\backend_agg.py:201: RuntimeWarning: Glyph 44208 missing from current font.\n",
      "  font.set_text(s, 0, flags=flags)\n",
      "C:\\Users\\Administrator\\anaconda3\\lib\\site-packages\\matplotlib\\backends\\backend_agg.py:201: RuntimeWarning: Glyph 49688 missing from current font.\n",
      "  font.set_text(s, 0, flags=flags)\n",
      "C:\\Users\\Administrator\\anaconda3\\lib\\site-packages\\matplotlib\\backends\\backend_agg.py:201: RuntimeWarning: Glyph 51061 missing from current font.\n",
      "  font.set_text(s, 0, flags=flags)\n",
      "C:\\Users\\Administrator\\anaconda3\\lib\\site-packages\\matplotlib\\backends\\backend_agg.py:201: RuntimeWarning: Glyph 47456 missing from current font.\n",
      "  font.set_text(s, 0, flags=flags)\n",
      "C:\\Users\\Administrator\\anaconda3\\lib\\site-packages\\matplotlib\\backends\\backend_agg.py:238: RuntimeWarning: Glyph 48288 missing from current font.\n",
      "  font.set_text(s, 0.0, flags=flags)\n",
      "C:\\Users\\Administrator\\anaconda3\\lib\\site-packages\\matplotlib\\backends\\backend_agg.py:238: RuntimeWarning: Glyph 53440 missing from current font.\n",
      "  font.set_text(s, 0.0, flags=flags)\n",
      "C:\\Users\\Administrator\\anaconda3\\lib\\site-packages\\matplotlib\\backends\\backend_agg.py:201: RuntimeWarning: Glyph 48288 missing from current font.\n",
      "  font.set_text(s, 0, flags=flags)\n",
      "C:\\Users\\Administrator\\anaconda3\\lib\\site-packages\\matplotlib\\backends\\backend_agg.py:201: RuntimeWarning: Glyph 53440 missing from current font.\n",
      "  font.set_text(s, 0, flags=flags)\n"
     ]
    },
    {
     "data": {
      "text/plain": [
       "<seaborn.axisgrid.FacetGrid at 0x2afee006490>"
      ]
     },
     "execution_count": 31,
     "metadata": {},
     "output_type": "execute_result"
    },
    {
     "data": {
      "image/png": "[encoded data removed]",
      "text/plain": [
       "<Figure size 835.02x360 with 2 Axes>"
      ]
     },
     "metadata": {
      "needs_background": "light"
     },
     "output_type": "display_data"
    }
   ],
   "source": [
    "with sns.plotting_context(\"notebook\", font_scale=1.2):\n",
    "    sns.relplot(\n",
    "        x=\"PBR(IFRS-연결)\",\n",
    "        y=\"수익률(%)\",\n",
    "        col=\"size\",\n",
    "        hue=\"베타 (M,5Yr)\",\n",
    "        palette=\"coolwarm\",\n",
    "        data=df\n",
    "    )"
   ]
  },
  {
   "cell_type": "code",
   "execution_count": 32,
   "metadata": {},
   "outputs": [
    {
     "name": "stderr",
     "output_type": "stream",
     "text": [
      "C:\\Users\\Administrator\\anaconda3\\lib\\site-packages\\matplotlib\\backends\\backend_agg.py:238: RuntimeWarning: Glyph 50672 missing from current font.\n",
      "  font.set_text(s, 0.0, flags=flags)\n",
      "C:\\Users\\Administrator\\anaconda3\\lib\\site-packages\\matplotlib\\backends\\backend_agg.py:238: RuntimeWarning: Glyph 44208 missing from current font.\n",
      "  font.set_text(s, 0.0, flags=flags)\n",
      "C:\\Users\\Administrator\\anaconda3\\lib\\site-packages\\matplotlib\\backends\\backend_agg.py:238: RuntimeWarning: Glyph 49688 missing from current font.\n",
      "  font.set_text(s, 0.0, flags=flags)\n",
      "C:\\Users\\Administrator\\anaconda3\\lib\\site-packages\\matplotlib\\backends\\backend_agg.py:238: RuntimeWarning: Glyph 51061 missing from current font.\n",
      "  font.set_text(s, 0.0, flags=flags)\n",
      "C:\\Users\\Administrator\\anaconda3\\lib\\site-packages\\matplotlib\\backends\\backend_agg.py:238: RuntimeWarning: Glyph 47456 missing from current font.\n",
      "  font.set_text(s, 0.0, flags=flags)\n",
      "C:\\Users\\Administrator\\anaconda3\\lib\\site-packages\\matplotlib\\backends\\backend_agg.py:201: RuntimeWarning: Glyph 50672 missing from current font.\n",
      "  font.set_text(s, 0, flags=flags)\n",
      "C:\\Users\\Administrator\\anaconda3\\lib\\site-packages\\matplotlib\\backends\\backend_agg.py:201: RuntimeWarning: Glyph 44208 missing from current font.\n",
      "  font.set_text(s, 0, flags=flags)\n",
      "C:\\Users\\Administrator\\anaconda3\\lib\\site-packages\\matplotlib\\backends\\backend_agg.py:201: RuntimeWarning: Glyph 49688 missing from current font.\n",
      "  font.set_text(s, 0, flags=flags)\n",
      "C:\\Users\\Administrator\\anaconda3\\lib\\site-packages\\matplotlib\\backends\\backend_agg.py:201: RuntimeWarning: Glyph 51061 missing from current font.\n",
      "  font.set_text(s, 0, flags=flags)\n",
      "C:\\Users\\Administrator\\anaconda3\\lib\\site-packages\\matplotlib\\backends\\backend_agg.py:201: RuntimeWarning: Glyph 47456 missing from current font.\n",
      "  font.set_text(s, 0, flags=flags)\n",
      "C:\\Users\\Administrator\\anaconda3\\lib\\site-packages\\matplotlib\\backends\\backend_agg.py:238: RuntimeWarning: Glyph 48288 missing from current font.\n",
      "  font.set_text(s, 0.0, flags=flags)\n",
      "C:\\Users\\Administrator\\anaconda3\\lib\\site-packages\\matplotlib\\backends\\backend_agg.py:238: RuntimeWarning: Glyph 53440 missing from current font.\n",
      "  font.set_text(s, 0.0, flags=flags)\n",
      "C:\\Users\\Administrator\\anaconda3\\lib\\site-packages\\matplotlib\\backends\\backend_agg.py:201: RuntimeWarning: Glyph 48288 missing from current font.\n",
      "  font.set_text(s, 0, flags=flags)\n",
      "C:\\Users\\Administrator\\anaconda3\\lib\\site-packages\\matplotlib\\backends\\backend_agg.py:201: RuntimeWarning: Glyph 53440 missing from current font.\n",
      "  font.set_text(s, 0, flags=flags)\n"
     ]
    },
    {
     "data": {
      "text/plain": [
       "<seaborn.axisgrid.FacetGrid at 0x2afee9da430>"
      ]
     },
     "execution_count": 32,
     "metadata": {},
     "output_type": "execute_result"
    },
    {
     "data": {
      "image/png": "[encoded data removed]",
      "text/plain": [
       "<Figure size 475.02x360 with 1 Axes>"
      ]
     },
     "metadata": {
      "needs_background": "light"
     },
     "output_type": "display_data"
    }
   ],
   "source": [
    "with sns.plotting_context(\"notebook\", font_scale=1.2):\n",
    "    sns.relplot(\n",
    "        x=\"PBR(IFRS-연결)\",\n",
    "        y=\"수익률(%)\",\n",
    "        size=\"size\",           # `col` 대신 `size`사용\n",
    "        hue=\"베타 (M,5Yr)\",\n",
    "        palette=\"coolwarm\",\n",
    "        data=df\n",
    "    )"
   ]
  },
  {
   "cell_type": "markdown",
   "metadata": {},
   "source": [
    " "
   ]
  },
  {
   "cell_type": "markdown",
   "metadata": {},
   "source": [
    " "
   ]
  },
  {
   "cell_type": "markdown",
   "metadata": {},
   "source": [
    " "
   ]
  },
  {
   "cell_type": "markdown",
   "metadata": {},
   "source": [
    " "
   ]
  },
  {
   "cell_type": "markdown",
   "metadata": {},
   "source": [
    " "
   ]
  },
  {
   "cell_type": "markdown",
   "metadata": {},
   "source": [
    " "
   ]
  },
  {
   "cell_type": "markdown",
   "metadata": {},
   "source": [
    " "
   ]
  },
  {
   "cell_type": "markdown",
   "metadata": {},
   "source": [
    "# 실전예제 "
   ]
  },
  {
   "cell_type": "code",
   "execution_count": 4,
   "metadata": {},
   "outputs": [],
   "source": [
    "df_list = []\n",
    "for i in range(2015, 2018):\n",
    "    df_list.append(\n",
    "        pd.read_csv(\"my_data/naver_finance/{}_12.csv\".format(i))\n",
    "    )"
   ]
  },
  {
   "cell_type": "code",
   "execution_count": 5,
   "metadata": {},
   "outputs": [],
   "source": [
    "df = pd.concat(df_list)"
   ]
  },
  {
   "cell_type": "code",
   "execution_count": 6,
   "metadata": {},
   "outputs": [
    {
     "data": {
      "text/html": [
       "<div>\n",
       "<style scoped>\n",
       "    .dataframe tbody tr th:only-of-type {\n",
       "        vertical-align: middle;\n",
       "    }\n",
       "\n",
       "    .dataframe tbody tr th {\n",
       "        vertical-align: top;\n",
       "    }\n",
       "\n",
       "    .dataframe thead th {\n",
       "        text-align: right;\n",
       "    }\n",
       "</style>\n",
       "<table border=\"1\" class=\"dataframe\">\n",
       "  <thead>\n",
       "    <tr style=\"text-align: right;\">\n",
       "      <th></th>\n",
       "      <th>ticker</th>\n",
       "      <th>매출액(억원)</th>\n",
       "      <th>영업이익률(%)</th>\n",
       "      <th>순이익률(%)</th>\n",
       "      <th>당기순이익(억원)</th>\n",
       "      <th>ROE(%)</th>\n",
       "      <th>ROA(%)</th>\n",
       "      <th>ROIC(%)</th>\n",
       "      <th>EPS(원)</th>\n",
       "      <th>BPS(원)</th>\n",
       "      <th>SPS(원)</th>\n",
       "      <th>PER(배)</th>\n",
       "      <th>PBR(배)</th>\n",
       "      <th>PSR(배)</th>\n",
       "      <th>price</th>\n",
       "      <th>price2</th>\n",
       "    </tr>\n",
       "  </thead>\n",
       "  <tbody>\n",
       "    <tr>\n",
       "      <th>0</th>\n",
       "      <td>AK홀딩스</td>\n",
       "      <td>28071.479</td>\n",
       "      <td>3.787</td>\n",
       "      <td>-1.334</td>\n",
       "      <td>-374.431</td>\n",
       "      <td>-7.677</td>\n",
       "      <td>-1.421</td>\n",
       "      <td>15.120</td>\n",
       "      <td>-3245.741</td>\n",
       "      <td>43497.723</td>\n",
       "      <td>211899.220</td>\n",
       "      <td>-19.472</td>\n",
       "      <td>1.453</td>\n",
       "      <td>0.298</td>\n",
       "      <td>63200.000</td>\n",
       "      <td>56000.000</td>\n",
       "    </tr>\n",
       "    <tr>\n",
       "      <th>1</th>\n",
       "      <td>BGF</td>\n",
       "      <td>43342.800</td>\n",
       "      <td>4.236</td>\n",
       "      <td>3.526</td>\n",
       "      <td>1528.413</td>\n",
       "      <td>22.771</td>\n",
       "      <td>10.327</td>\n",
       "      <td>271.957</td>\n",
       "      <td>3071.872</td>\n",
       "      <td>15605.457</td>\n",
       "      <td>87779.875</td>\n",
       "      <td>28.779</td>\n",
       "      <td>5.665</td>\n",
       "      <td>1.007</td>\n",
       "      <td>44202.000</td>\n",
       "      <td>42140.000</td>\n",
       "    </tr>\n",
       "    <tr>\n",
       "      <th>2</th>\n",
       "      <td>BNK금융지주</td>\n",
       "      <td>51740.254</td>\n",
       "      <td>13.455</td>\n",
       "      <td>10.253</td>\n",
       "      <td>5304.712</td>\n",
       "      <td>9.116</td>\n",
       "      <td>0.609</td>\n",
       "      <td>NaN</td>\n",
       "      <td>1853.180</td>\n",
       "      <td>21665.062</td>\n",
       "      <td>19749.037</td>\n",
       "      <td>4.544</td>\n",
       "      <td>0.389</td>\n",
       "      <td>0.426</td>\n",
       "      <td>8420.000</td>\n",
       "      <td>8680.000</td>\n",
       "    </tr>\n",
       "    <tr>\n",
       "      <th>3</th>\n",
       "      <td>BYC</td>\n",
       "      <td>1821.960</td>\n",
       "      <td>11.598</td>\n",
       "      <td>7.222</td>\n",
       "      <td>131.581</td>\n",
       "      <td>3.546</td>\n",
       "      <td>2.024</td>\n",
       "      <td>13.235</td>\n",
       "      <td>15693.808</td>\n",
       "      <td>453030.620</td>\n",
       "      <td>216899.980</td>\n",
       "      <td>29.279</td>\n",
       "      <td>1.014</td>\n",
       "      <td>2.118</td>\n",
       "      <td>459500.000</td>\n",
       "      <td>397000.000</td>\n",
       "    </tr>\n",
       "    <tr>\n",
       "      <th>4</th>\n",
       "      <td>CJ</td>\n",
       "      <td>211667.080</td>\n",
       "      <td>5.789</td>\n",
       "      <td>2.604</td>\n",
       "      <td>5511.155</td>\n",
       "      <td>5.874</td>\n",
       "      <td>2.365</td>\n",
       "      <td>5.821</td>\n",
       "      <td>5780.626</td>\n",
       "      <td>110304.560</td>\n",
       "      <td>594563.900</td>\n",
       "      <td>40.944</td>\n",
       "      <td>2.146</td>\n",
       "      <td>0.398</td>\n",
       "      <td>236684.000</td>\n",
       "      <td>176334.000</td>\n",
       "    </tr>\n",
       "  </tbody>\n",
       "</table>\n",
       "</div>"
      ],
      "text/plain": [
       "    ticker    매출액(억원)  영업이익률(%)  순이익률(%)  당기순이익(억원)  ROE(%)  ROA(%)  ROIC(%)  \\\n",
       "0    AK홀딩스  28071.479     3.787   -1.334   -374.431  -7.677  -1.421   15.120   \n",
       "1      BGF  43342.800     4.236    3.526   1528.413  22.771  10.327  271.957   \n",
       "2  BNK금융지주  51740.254    13.455   10.253   5304.712   9.116   0.609      NaN   \n",
       "3      BYC   1821.960    11.598    7.222    131.581   3.546   2.024   13.235   \n",
       "4       CJ 211667.080     5.789    2.604   5511.155   5.874   2.365    5.821   \n",
       "\n",
       "     EPS(원)     BPS(원)     SPS(원)  PER(배)  PBR(배)  PSR(배)      price  \\\n",
       "0 -3245.741  43497.723 211899.220 -19.472   1.453   0.298  63200.000   \n",
       "1  3071.872  15605.457  87779.875  28.779   5.665   1.007  44202.000   \n",
       "2  1853.180  21665.062  19749.037   4.544   0.389   0.426   8420.000   \n",
       "3 15693.808 453030.620 216899.980  29.279   1.014   2.118 459500.000   \n",
       "4  5780.626 110304.560 594563.900  40.944   2.146   0.398 236684.000   \n",
       "\n",
       "      price2  \n",
       "0  56000.000  \n",
       "1  42140.000  \n",
       "2   8680.000  \n",
       "3 397000.000  \n",
       "4 176334.000  "
      ]
     },
     "execution_count": 6,
     "metadata": {},
     "output_type": "execute_result"
    }
   ],
   "source": [
    "df.head()"
   ]
  },
  {
   "cell_type": "code",
   "execution_count": 7,
   "metadata": {},
   "outputs": [],
   "source": [
    "df = df.dropna()"
   ]
  },
  {
   "cell_type": "code",
   "execution_count": 8,
   "metadata": {},
   "outputs": [],
   "source": [
    "df['rtn'] = df['price2'] / df['price'] - 1"
   ]
  },
  {
   "cell_type": "code",
   "execution_count": 9,
   "metadata": {},
   "outputs": [
    {
     "data": {
      "text/html": [
       "<div>\n",
       "<style scoped>\n",
       "    .dataframe tbody tr th:only-of-type {\n",
       "        vertical-align: middle;\n",
       "    }\n",
       "\n",
       "    .dataframe tbody tr th {\n",
       "        vertical-align: top;\n",
       "    }\n",
       "\n",
       "    .dataframe thead th {\n",
       "        text-align: right;\n",
       "    }\n",
       "</style>\n",
       "<table border=\"1\" class=\"dataframe\">\n",
       "  <thead>\n",
       "    <tr style=\"text-align: right;\">\n",
       "      <th></th>\n",
       "      <th>ticker</th>\n",
       "      <th>매출액(억원)</th>\n",
       "      <th>영업이익률(%)</th>\n",
       "      <th>순이익률(%)</th>\n",
       "      <th>당기순이익(억원)</th>\n",
       "      <th>ROE(%)</th>\n",
       "      <th>ROA(%)</th>\n",
       "      <th>ROIC(%)</th>\n",
       "      <th>EPS(원)</th>\n",
       "      <th>BPS(원)</th>\n",
       "      <th>SPS(원)</th>\n",
       "      <th>PER(배)</th>\n",
       "      <th>PBR(배)</th>\n",
       "      <th>PSR(배)</th>\n",
       "      <th>price</th>\n",
       "      <th>price2</th>\n",
       "      <th>rtn</th>\n",
       "    </tr>\n",
       "  </thead>\n",
       "  <tbody>\n",
       "    <tr>\n",
       "      <th>0</th>\n",
       "      <td>AK홀딩스</td>\n",
       "      <td>28071.479</td>\n",
       "      <td>3.787</td>\n",
       "      <td>-1.334</td>\n",
       "      <td>-374.431</td>\n",
       "      <td>-7.677</td>\n",
       "      <td>-1.421</td>\n",
       "      <td>15.120</td>\n",
       "      <td>-3245.741</td>\n",
       "      <td>43497.723</td>\n",
       "      <td>211899.220</td>\n",
       "      <td>-19.472</td>\n",
       "      <td>1.453</td>\n",
       "      <td>0.298</td>\n",
       "      <td>63200.000</td>\n",
       "      <td>56000.000</td>\n",
       "      <td>-0.114</td>\n",
       "    </tr>\n",
       "    <tr>\n",
       "      <th>1</th>\n",
       "      <td>BGF</td>\n",
       "      <td>43342.800</td>\n",
       "      <td>4.236</td>\n",
       "      <td>3.526</td>\n",
       "      <td>1528.413</td>\n",
       "      <td>22.771</td>\n",
       "      <td>10.327</td>\n",
       "      <td>271.957</td>\n",
       "      <td>3071.872</td>\n",
       "      <td>15605.457</td>\n",
       "      <td>87779.875</td>\n",
       "      <td>28.779</td>\n",
       "      <td>5.665</td>\n",
       "      <td>1.007</td>\n",
       "      <td>44202.000</td>\n",
       "      <td>42140.000</td>\n",
       "      <td>-0.047</td>\n",
       "    </tr>\n",
       "    <tr>\n",
       "      <th>3</th>\n",
       "      <td>BYC</td>\n",
       "      <td>1821.960</td>\n",
       "      <td>11.598</td>\n",
       "      <td>7.222</td>\n",
       "      <td>131.581</td>\n",
       "      <td>3.546</td>\n",
       "      <td>2.024</td>\n",
       "      <td>13.235</td>\n",
       "      <td>15693.808</td>\n",
       "      <td>453030.620</td>\n",
       "      <td>216899.980</td>\n",
       "      <td>29.279</td>\n",
       "      <td>1.014</td>\n",
       "      <td>2.118</td>\n",
       "      <td>459500.000</td>\n",
       "      <td>397000.000</td>\n",
       "      <td>-0.136</td>\n",
       "    </tr>\n",
       "    <tr>\n",
       "      <th>4</th>\n",
       "      <td>CJ</td>\n",
       "      <td>211667.080</td>\n",
       "      <td>5.789</td>\n",
       "      <td>2.604</td>\n",
       "      <td>5511.155</td>\n",
       "      <td>5.874</td>\n",
       "      <td>2.365</td>\n",
       "      <td>5.821</td>\n",
       "      <td>5780.626</td>\n",
       "      <td>110304.560</td>\n",
       "      <td>594563.900</td>\n",
       "      <td>40.944</td>\n",
       "      <td>2.146</td>\n",
       "      <td>0.398</td>\n",
       "      <td>236684.000</td>\n",
       "      <td>176334.000</td>\n",
       "      <td>-0.255</td>\n",
       "    </tr>\n",
       "    <tr>\n",
       "      <th>5</th>\n",
       "      <td>CJ CGV</td>\n",
       "      <td>11935.164</td>\n",
       "      <td>5.605</td>\n",
       "      <td>4.374</td>\n",
       "      <td>521.992</td>\n",
       "      <td>12.937</td>\n",
       "      <td>3.906</td>\n",
       "      <td>6.524</td>\n",
       "      <td>2454.664</td>\n",
       "      <td>19898.531</td>\n",
       "      <td>56400.867</td>\n",
       "      <td>51.331</td>\n",
       "      <td>6.332</td>\n",
       "      <td>2.234</td>\n",
       "      <td>126000.000</td>\n",
       "      <td>70400.000</td>\n",
       "      <td>-0.441</td>\n",
       "    </tr>\n",
       "    <tr>\n",
       "      <th>...</th>\n",
       "      <td>...</td>\n",
       "      <td>...</td>\n",
       "      <td>...</td>\n",
       "      <td>...</td>\n",
       "      <td>...</td>\n",
       "      <td>...</td>\n",
       "      <td>...</td>\n",
       "      <td>...</td>\n",
       "      <td>...</td>\n",
       "      <td>...</td>\n",
       "      <td>...</td>\n",
       "      <td>...</td>\n",
       "      <td>...</td>\n",
       "      <td>...</td>\n",
       "      <td>...</td>\n",
       "      <td>...</td>\n",
       "      <td>...</td>\n",
       "    </tr>\n",
       "    <tr>\n",
       "      <th>675</th>\n",
       "      <td>휴니드테크놀러지스</td>\n",
       "      <td>1808.536</td>\n",
       "      <td>9.295</td>\n",
       "      <td>9.719</td>\n",
       "      <td>175.776</td>\n",
       "      <td>17.422</td>\n",
       "      <td>11.540</td>\n",
       "      <td>12.732</td>\n",
       "      <td>1248.423</td>\n",
       "      <td>7953.309</td>\n",
       "      <td>12844.851</td>\n",
       "      <td>9.132</td>\n",
       "      <td>1.433</td>\n",
       "      <td>0.888</td>\n",
       "      <td>11400.000</td>\n",
       "      <td>8000.000</td>\n",
       "      <td>-0.298</td>\n",
       "    </tr>\n",
       "    <tr>\n",
       "      <th>676</th>\n",
       "      <td>휴비스</td>\n",
       "      <td>11982.708</td>\n",
       "      <td>2.216</td>\n",
       "      <td>1.933</td>\n",
       "      <td>231.641</td>\n",
       "      <td>5.642</td>\n",
       "      <td>2.553</td>\n",
       "      <td>3.740</td>\n",
       "      <td>649.242</td>\n",
       "      <td>12201.431</td>\n",
       "      <td>34732.490</td>\n",
       "      <td>15.557</td>\n",
       "      <td>0.828</td>\n",
       "      <td>0.291</td>\n",
       "      <td>10100.000</td>\n",
       "      <td>7510.000</td>\n",
       "      <td>-0.256</td>\n",
       "    </tr>\n",
       "    <tr>\n",
       "      <th>677</th>\n",
       "      <td>휴스틸</td>\n",
       "      <td>6905.674</td>\n",
       "      <td>3.290</td>\n",
       "      <td>0.534</td>\n",
       "      <td>36.854</td>\n",
       "      <td>0.966</td>\n",
       "      <td>0.592</td>\n",
       "      <td>2.325</td>\n",
       "      <td>532.673</td>\n",
       "      <td>54479.790</td>\n",
       "      <td>99812.930</td>\n",
       "      <td>29.005</td>\n",
       "      <td>0.284</td>\n",
       "      <td>0.155</td>\n",
       "      <td>15450.000</td>\n",
       "      <td>11550.000</td>\n",
       "      <td>-0.252</td>\n",
       "    </tr>\n",
       "    <tr>\n",
       "      <th>678</th>\n",
       "      <td>휴켐스</td>\n",
       "      <td>7157.649</td>\n",
       "      <td>21.324</td>\n",
       "      <td>15.376</td>\n",
       "      <td>1100.566</td>\n",
       "      <td>21.302</td>\n",
       "      <td>13.500</td>\n",
       "      <td>41.410</td>\n",
       "      <td>2798.313</td>\n",
       "      <td>15161.224</td>\n",
       "      <td>17509.533</td>\n",
       "      <td>8.773</td>\n",
       "      <td>1.619</td>\n",
       "      <td>1.402</td>\n",
       "      <td>24550.000</td>\n",
       "      <td>24100.000</td>\n",
       "      <td>-0.018</td>\n",
       "    </tr>\n",
       "    <tr>\n",
       "      <th>680</th>\n",
       "      <td>흥아해운</td>\n",
       "      <td>8364.275</td>\n",
       "      <td>-1.554</td>\n",
       "      <td>-7.412</td>\n",
       "      <td>-619.919</td>\n",
       "      <td>-37.746</td>\n",
       "      <td>-6.768</td>\n",
       "      <td>-4.828</td>\n",
       "      <td>-943.537</td>\n",
       "      <td>2087.582</td>\n",
       "      <td>12730.689</td>\n",
       "      <td>-1.574</td>\n",
       "      <td>0.711</td>\n",
       "      <td>0.117</td>\n",
       "      <td>1468.000</td>\n",
       "      <td>785.000</td>\n",
       "      <td>-0.465</td>\n",
       "    </tr>\n",
       "  </tbody>\n",
       "</table>\n",
       "<p>1824 rows × 17 columns</p>\n",
       "</div>"
      ],
      "text/plain": [
       "        ticker    매출액(억원)  영업이익률(%)  순이익률(%)  당기순이익(억원)  ROE(%)  ROA(%)  \\\n",
       "0        AK홀딩스  28071.479     3.787   -1.334   -374.431  -7.677  -1.421   \n",
       "1          BGF  43342.800     4.236    3.526   1528.413  22.771  10.327   \n",
       "3          BYC   1821.960    11.598    7.222    131.581   3.546   2.024   \n",
       "4           CJ 211667.080     5.789    2.604   5511.155   5.874   2.365   \n",
       "5       CJ CGV  11935.164     5.605    4.374    521.992  12.937   3.906   \n",
       "..         ...        ...       ...      ...        ...     ...     ...   \n",
       "675  휴니드테크놀러지스   1808.536     9.295    9.719    175.776  17.422  11.540   \n",
       "676        휴비스  11982.708     2.216    1.933    231.641   5.642   2.553   \n",
       "677        휴스틸   6905.674     3.290    0.534     36.854   0.966   0.592   \n",
       "678        휴켐스   7157.649    21.324   15.376   1100.566  21.302  13.500   \n",
       "680       흥아해운   8364.275    -1.554   -7.412   -619.919 -37.746  -6.768   \n",
       "\n",
       "     ROIC(%)    EPS(원)     BPS(원)     SPS(원)  PER(배)  PBR(배)  PSR(배)  \\\n",
       "0     15.120 -3245.741  43497.723 211899.220 -19.472   1.453   0.298   \n",
       "1    271.957  3071.872  15605.457  87779.875  28.779   5.665   1.007   \n",
       "3     13.235 15693.808 453030.620 216899.980  29.279   1.014   2.118   \n",
       "4      5.821  5780.626 110304.560 594563.900  40.944   2.146   0.398   \n",
       "5      6.524  2454.664  19898.531  56400.867  51.331   6.332   2.234   \n",
       "..       ...       ...        ...        ...     ...     ...     ...   \n",
       "675   12.732  1248.423   7953.309  12844.851   9.132   1.433   0.888   \n",
       "676    3.740   649.242  12201.431  34732.490  15.557   0.828   0.291   \n",
       "677    2.325   532.673  54479.790  99812.930  29.005   0.284   0.155   \n",
       "678   41.410  2798.313  15161.224  17509.533   8.773   1.619   1.402   \n",
       "680   -4.828  -943.537   2087.582  12730.689  -1.574   0.711   0.117   \n",
       "\n",
       "         price     price2    rtn  \n",
       "0    63200.000  56000.000 -0.114  \n",
       "1    44202.000  42140.000 -0.047  \n",
       "3   459500.000 397000.000 -0.136  \n",
       "4   236684.000 176334.000 -0.255  \n",
       "5   126000.000  70400.000 -0.441  \n",
       "..         ...        ...    ...  \n",
       "675  11400.000   8000.000 -0.298  \n",
       "676  10100.000   7510.000 -0.256  \n",
       "677  15450.000  11550.000 -0.252  \n",
       "678  24550.000  24100.000 -0.018  \n",
       "680   1468.000    785.000 -0.465  \n",
       "\n",
       "[1824 rows x 17 columns]"
      ]
     },
     "execution_count": 9,
     "metadata": {},
     "output_type": "execute_result"
    }
   ],
   "source": [
    "df"
   ]
  },
  {
   "cell_type": "code",
   "execution_count": 10,
   "metadata": {},
   "outputs": [],
   "source": [
    "#\n",
    "# outlier(이상치) 제거하기\n",
    "#\n",
    "for col in df.columns:\n",
    "    if col not in ['ticker', 'price2', 'price', 'rtn']:\n",
    "        mu = df[col].mean()\n",
    "        std = df[col].std()\n",
    "        \n",
    "        cond1 = mu - 2*std <= df[col]\n",
    "        cond2 = df[col] <= mu + 2*std\n",
    "        \n",
    "        df = df[cond1 & cond2]"
   ]
  },
  {
   "cell_type": "code",
   "execution_count": 11,
   "metadata": {},
   "outputs": [
    {
     "name": "stderr",
     "output_type": "stream",
     "text": [
      "C:\\Users\\Administrator\\anaconda3\\lib\\site-packages\\matplotlib\\backends\\backend_agg.py:238: RuntimeWarning: Glyph 49692 missing from current font.\n",
      "  font.set_text(s, 0.0, flags=flags)\n",
      "C:\\Users\\Administrator\\anaconda3\\lib\\site-packages\\matplotlib\\backends\\backend_agg.py:238: RuntimeWarning: Glyph 51060 missing from current font.\n",
      "  font.set_text(s, 0.0, flags=flags)\n",
      "C:\\Users\\Administrator\\anaconda3\\lib\\site-packages\\matplotlib\\backends\\backend_agg.py:238: RuntimeWarning: Glyph 51061 missing from current font.\n",
      "  font.set_text(s, 0.0, flags=flags)\n",
      "C:\\Users\\Administrator\\anaconda3\\lib\\site-packages\\matplotlib\\backends\\backend_agg.py:238: RuntimeWarning: Glyph 47456 missing from current font.\n",
      "  font.set_text(s, 0.0, flags=flags)\n",
      "C:\\Users\\Administrator\\anaconda3\\lib\\site-packages\\matplotlib\\backends\\backend_agg.py:201: RuntimeWarning: Glyph 49692 missing from current font.\n",
      "  font.set_text(s, 0, flags=flags)\n",
      "C:\\Users\\Administrator\\anaconda3\\lib\\site-packages\\matplotlib\\backends\\backend_agg.py:201: RuntimeWarning: Glyph 51060 missing from current font.\n",
      "  font.set_text(s, 0, flags=flags)\n",
      "C:\\Users\\Administrator\\anaconda3\\lib\\site-packages\\matplotlib\\backends\\backend_agg.py:201: RuntimeWarning: Glyph 51061 missing from current font.\n",
      "  font.set_text(s, 0, flags=flags)\n",
      "C:\\Users\\Administrator\\anaconda3\\lib\\site-packages\\matplotlib\\backends\\backend_agg.py:201: RuntimeWarning: Glyph 47456 missing from current font.\n",
      "  font.set_text(s, 0, flags=flags)\n"
     ]
    },
    {
     "data": {
      "text/plain": [
       "<seaborn.axisgrid.FacetGrid at 0x2aec49b9070>"
      ]
     },
     "execution_count": 11,
     "metadata": {},
     "output_type": "execute_result"
    },
    {
     "data": {
      "image/png": "[encoded data removed]",
      "text/plain": [
       "<Figure size 434.5x360 with 1 Axes>"
      ]
     },
     "metadata": {
      "needs_background": "light"
     },
     "output_type": "display_data"
    }
   ],
   "source": [
    "# with sns.plotting_context(\"notebook\", font_scale=1.2):\n",
    "sns.relplot(\n",
    "    x=\"순이익률(%)\",\n",
    "    y=\"rtn\",\n",
    "    hue=\"ROA(%)\",\n",
    "    palette=\"coolwarm\",\n",
    "    data=df\n",
    ")"
   ]
  },
  {
   "cell_type": "markdown",
   "metadata": {},
   "source": [
    "- 순이익률이 0 인경우 수익률이 큼 신기"
   ]
  },
  {
   "cell_type": "code",
   "execution_count": 12,
   "metadata": {},
   "outputs": [
    {
     "name": "stderr",
     "output_type": "stream",
     "text": [
      "C:\\Users\\Administrator\\anaconda3\\lib\\site-packages\\matplotlib\\backends\\backend_agg.py:238: RuntimeWarning: Glyph 48176 missing from current font.\n",
      "  font.set_text(s, 0.0, flags=flags)\n",
      "C:\\Users\\Administrator\\anaconda3\\lib\\site-packages\\matplotlib\\backends\\backend_agg.py:201: RuntimeWarning: Glyph 48176 missing from current font.\n",
      "  font.set_text(s, 0, flags=flags)\n",
      "C:\\Users\\Administrator\\anaconda3\\lib\\site-packages\\matplotlib\\backends\\backend_agg.py:238: RuntimeWarning: Glyph 45817 missing from current font.\n",
      "  font.set_text(s, 0.0, flags=flags)\n",
      "C:\\Users\\Administrator\\anaconda3\\lib\\site-packages\\matplotlib\\backends\\backend_agg.py:238: RuntimeWarning: Glyph 44592 missing from current font.\n",
      "  font.set_text(s, 0.0, flags=flags)\n",
      "C:\\Users\\Administrator\\anaconda3\\lib\\site-packages\\matplotlib\\backends\\backend_agg.py:238: RuntimeWarning: Glyph 49692 missing from current font.\n",
      "  font.set_text(s, 0.0, flags=flags)\n",
      "C:\\Users\\Administrator\\anaconda3\\lib\\site-packages\\matplotlib\\backends\\backend_agg.py:238: RuntimeWarning: Glyph 51060 missing from current font.\n",
      "  font.set_text(s, 0.0, flags=flags)\n",
      "C:\\Users\\Administrator\\anaconda3\\lib\\site-packages\\matplotlib\\backends\\backend_agg.py:238: RuntimeWarning: Glyph 51061 missing from current font.\n",
      "  font.set_text(s, 0.0, flags=flags)\n",
      "C:\\Users\\Administrator\\anaconda3\\lib\\site-packages\\matplotlib\\backends\\backend_agg.py:238: RuntimeWarning: Glyph 50613 missing from current font.\n",
      "  font.set_text(s, 0.0, flags=flags)\n",
      "C:\\Users\\Administrator\\anaconda3\\lib\\site-packages\\matplotlib\\backends\\backend_agg.py:238: RuntimeWarning: Glyph 50896 missing from current font.\n",
      "  font.set_text(s, 0.0, flags=flags)\n",
      "C:\\Users\\Administrator\\anaconda3\\lib\\site-packages\\matplotlib\\backends\\backend_agg.py:201: RuntimeWarning: Glyph 45817 missing from current font.\n",
      "  font.set_text(s, 0, flags=flags)\n",
      "C:\\Users\\Administrator\\anaconda3\\lib\\site-packages\\matplotlib\\backends\\backend_agg.py:201: RuntimeWarning: Glyph 44592 missing from current font.\n",
      "  font.set_text(s, 0, flags=flags)\n",
      "C:\\Users\\Administrator\\anaconda3\\lib\\site-packages\\matplotlib\\backends\\backend_agg.py:201: RuntimeWarning: Glyph 49692 missing from current font.\n",
      "  font.set_text(s, 0, flags=flags)\n",
      "C:\\Users\\Administrator\\anaconda3\\lib\\site-packages\\matplotlib\\backends\\backend_agg.py:201: RuntimeWarning: Glyph 51060 missing from current font.\n",
      "  font.set_text(s, 0, flags=flags)\n",
      "C:\\Users\\Administrator\\anaconda3\\lib\\site-packages\\matplotlib\\backends\\backend_agg.py:201: RuntimeWarning: Glyph 51061 missing from current font.\n",
      "  font.set_text(s, 0, flags=flags)\n",
      "C:\\Users\\Administrator\\anaconda3\\lib\\site-packages\\matplotlib\\backends\\backend_agg.py:201: RuntimeWarning: Glyph 50613 missing from current font.\n",
      "  font.set_text(s, 0, flags=flags)\n",
      "C:\\Users\\Administrator\\anaconda3\\lib\\site-packages\\matplotlib\\backends\\backend_agg.py:201: RuntimeWarning: Glyph 50896 missing from current font.\n",
      "  font.set_text(s, 0, flags=flags)\n"
     ]
    },
    {
     "data": {
      "text/plain": [
       "<seaborn.axisgrid.FacetGrid at 0x2aec7536f40>"
      ]
     },
     "execution_count": 12,
     "metadata": {},
     "output_type": "execute_result"
    },
    {
     "data": {
      "image/png": "[encoded data removed]",
      "text/plain": [
       "<Figure size 445.75x360 with 1 Axes>"
      ]
     },
     "metadata": {
      "needs_background": "light"
     },
     "output_type": "display_data"
    }
   ],
   "source": [
    "# with sns.plotting_context(\"notebook\", font_scale=1.2):\n",
    "sns.relplot(\n",
    "    x=\"PSR(배)\",\n",
    "    y=\"rtn\",\n",
    "    hue=\"당기순이익(억원)\",\n",
    "    palette=\"coolwarm\",\n",
    "    data=df\n",
    ")"
   ]
  },
  {
   "cell_type": "markdown",
   "metadata": {},
   "source": [
    "- 당기순이익이 큰 경우 PSR이 크면 수익률이 낮고 PSR이 작으면 수익률이 좀 높은 경향"
   ]
  },
  {
   "cell_type": "markdown",
   "metadata": {},
   "source": [
    " "
   ]
  },
  {
   "cell_type": "markdown",
   "metadata": {},
   "source": [
    "- Seaborn plot 종류\n",
    "    - https://seaborn.pydata.org/examples/index.html"
   ]
  },
  {
   "cell_type": "markdown",
   "metadata": {},
   "source": [
    " "
   ]
  },
  {
   "cell_type": "markdown",
   "metadata": {},
   "source": [
    " "
   ]
  }
 ],
 "metadata": {
  "kernelspec": {
   "display_name": "Python 3",
   "language": "python",
   "name": "python3"
  },
  "language_info": {
   "codemirror_mode": {
    "name": "ipython",
    "version": 3
   },
   "file_extension": ".py",
   "mimetype": "text/x-python",
   "name": "python",
   "nbconvert_exporter": "python",
   "pygments_lexer": "ipython3",
   "version": "3.8.8"
  },
  "toc": {
   "base_numbering": 1,
   "nav_menu": {},
   "number_sections": true,
   "sideBar": true,
   "skip_h1_title": false,
   "title_cell": "Table of Contents",
   "title_sidebar": "Contents",
   "toc_cell": false,
   "toc_position": {
    "height": "calc(100% - 180px)",
    "left": "10px",
    "top": "150px",
    "width": "255.99px"
   },
   "toc_section_display": true,
   "toc_window_display": true
  },
  "toc-autonumbering": true,
  "toc-showcode": false,
  "toc-showmarkdowntxt": false,
  "toc-showtags": false
 },
 "nbformat": 4,
 "nbformat_minor": 4
}
